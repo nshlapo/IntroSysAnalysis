{
 "cells": [
  {
   "cell_type": "code",
   "execution_count": 77,
   "metadata": {},
   "outputs": [
    {
     "name": "stdout",
     "output_type": "stream",
     "text": [
      "19272736.125 10167789\n"
     ]
    }
   ],
   "source": [
    "import pandas as pd\n",
    "\n",
    "etch = [550, 604, 669, 650, 633, 601, 642, 635, 1037, 1052, 749, 868, 1075, 1063, 729, 860]\n",
    "replicate = [1, 2]*8\n",
    "A = [-1, -1, 1, 1]*4\n",
    "B = [-1, -1, -1, -1, 1, 1, 1, 1]*2\n",
    "C = [-1]*8 + [1]*8\n",
    "\n",
    "data = pd.DataFrame({'Rate': etch, 'A': A, 'B': B, 'C': C, 'Replicate': replicate})\n",
    "data['SqRate'] = data.Rate**2\n",
    "data\n",
    "\n",
    "print((data.Rate.sum()**2)/8, data.SqRate.sum())"
   ]
  },
  {
   "cell_type": "code",
   "execution_count": 70,
   "metadata": {},
   "outputs": [],
   "source": [
    "rep1 = []\n",
    "rep2 = []\n",
    "i = 0\n",
    "for entry in etch:\n",
    "    if (i%2 == 0):\n",
    "        rep1.append(entry)\n",
    "        A[i] = 0\n",
    "        B[i] = 0\n",
    "        C[i] = 0\n",
    "    else:\n",
    "        rep2.append(entry)\n",
    "    i += 1\n",
    "\n",
    "A = [x for x in A if x!=0]\n",
    "B = [x for x in B if x!=0]\n",
    "C = [x for x in C if x!=0]\n",
    "\n",
    "new_data = pd.DataFrame({'A': A, 'B': B, 'C': C, 'Rep1': rep1, 'Rep2': rep2})\n",
    "new_data['Total'] = new_data.Rep1 + new_data.Rep2"
   ]
  },
  {
   "cell_type": "code",
   "execution_count": 71,
   "metadata": {},
   "outputs": [
    {
     "data": {
      "text/html": [
       "<div>\n",
       "<style>\n",
       "    .dataframe thead tr:only-child th {\n",
       "        text-align: right;\n",
       "    }\n",
       "\n",
       "    .dataframe thead th {\n",
       "        text-align: left;\n",
       "    }\n",
       "\n",
       "    .dataframe tbody tr th {\n",
       "        vertical-align: top;\n",
       "    }\n",
       "</style>\n",
       "<table border=\"1\" class=\"dataframe\">\n",
       "  <thead>\n",
       "    <tr style=\"text-align: right;\">\n",
       "      <th></th>\n",
       "      <th>A</th>\n",
       "      <th>B</th>\n",
       "      <th>C</th>\n",
       "      <th>Rep1</th>\n",
       "      <th>Rep2</th>\n",
       "      <th>Total</th>\n",
       "    </tr>\n",
       "  </thead>\n",
       "  <tbody>\n",
       "    <tr>\n",
       "      <th>0</th>\n",
       "      <td>-1</td>\n",
       "      <td>-1</td>\n",
       "      <td>-1</td>\n",
       "      <td>550</td>\n",
       "      <td>604</td>\n",
       "      <td>1154</td>\n",
       "    </tr>\n",
       "    <tr>\n",
       "      <th>1</th>\n",
       "      <td>1</td>\n",
       "      <td>-1</td>\n",
       "      <td>-1</td>\n",
       "      <td>669</td>\n",
       "      <td>650</td>\n",
       "      <td>1319</td>\n",
       "    </tr>\n",
       "    <tr>\n",
       "      <th>2</th>\n",
       "      <td>-1</td>\n",
       "      <td>1</td>\n",
       "      <td>-1</td>\n",
       "      <td>633</td>\n",
       "      <td>601</td>\n",
       "      <td>1234</td>\n",
       "    </tr>\n",
       "    <tr>\n",
       "      <th>3</th>\n",
       "      <td>1</td>\n",
       "      <td>1</td>\n",
       "      <td>-1</td>\n",
       "      <td>642</td>\n",
       "      <td>635</td>\n",
       "      <td>1277</td>\n",
       "    </tr>\n",
       "    <tr>\n",
       "      <th>4</th>\n",
       "      <td>-1</td>\n",
       "      <td>-1</td>\n",
       "      <td>1</td>\n",
       "      <td>1037</td>\n",
       "      <td>1052</td>\n",
       "      <td>2089</td>\n",
       "    </tr>\n",
       "    <tr>\n",
       "      <th>5</th>\n",
       "      <td>1</td>\n",
       "      <td>-1</td>\n",
       "      <td>1</td>\n",
       "      <td>749</td>\n",
       "      <td>868</td>\n",
       "      <td>1617</td>\n",
       "    </tr>\n",
       "    <tr>\n",
       "      <th>6</th>\n",
       "      <td>-1</td>\n",
       "      <td>1</td>\n",
       "      <td>1</td>\n",
       "      <td>1075</td>\n",
       "      <td>1063</td>\n",
       "      <td>2138</td>\n",
       "    </tr>\n",
       "    <tr>\n",
       "      <th>7</th>\n",
       "      <td>1</td>\n",
       "      <td>1</td>\n",
       "      <td>1</td>\n",
       "      <td>729</td>\n",
       "      <td>860</td>\n",
       "      <td>1589</td>\n",
       "    </tr>\n",
       "  </tbody>\n",
       "</table>\n",
       "</div>"
      ],
      "text/plain": [
       "   A  B  C  Rep1  Rep2  Total\n",
       "0 -1 -1 -1   550   604   1154\n",
       "1  1 -1 -1   669   650   1319\n",
       "2 -1  1 -1   633   601   1234\n",
       "3  1  1 -1   642   635   1277\n",
       "4 -1 -1  1  1037  1052   2089\n",
       "5  1 -1  1   749   868   1617\n",
       "6 -1  1  1  1075  1063   2138\n",
       "7  1  1  1   729   860   1589"
      ]
     },
     "execution_count": 71,
     "metadata": {},
     "output_type": "execute_result"
    }
   ],
   "source": [
    "new_data"
   ]
  },
  {
   "cell_type": "markdown",
   "metadata": {},
   "source": [
    "## Manual Calculation"
   ]
  },
  {
   "cell_type": "code",
   "execution_count": 106,
   "metadata": {},
   "outputs": [
    {
     "data": {
      "text/plain": [
       "{'A': -101.625,\n",
       " 'AB': -24.875,\n",
       " 'ABC': 5.625,\n",
       " 'AC': -153.625,\n",
       " 'B': 7.375,\n",
       " 'BC': -2.125,\n",
       " 'C': 306.125}"
      ]
     },
     "execution_count": 106,
     "metadata": {},
     "output_type": "execute_result"
    }
   ],
   "source": [
    "n = 2\n",
    "effect = {}\n",
    "\n",
    "effect['A'] = (new_data.query('A == 1').Total.sum() - new_data.query('A == -1').Total.sum())/(4*n)\n",
    "effect['B'] = (new_data.query('B == 1').Total.sum() - new_data.query('B == -1').Total.sum())/(4*n)\n",
    "effect['C'] = (new_data.query('C == 1').Total.sum() - new_data.query('C == -1').Total.sum())/(4*n)\n",
    "\n",
    "effect['AB'] = (new_data.query('(A+B) != 0').Total.sum() - new_data.query('(A+B) == 0').Total.sum())/(4*n)\n",
    "effect['AC'] = (new_data.query('(A+C) != 0').Total.sum() - new_data.query('(A+C) == 0').Total.sum())/(4*n)\n",
    "effect['BC'] = (new_data.query('(B+C) != 0').Total.sum() - new_data.query('(B+C) == 0').Total.sum())/(4*n)\n",
    "\n",
    "effect['ABC'] = (new_data.query('((A+B+C) == -1)|((A+B+C) == 3)').Total.sum() - new_data.query('((A+B+C) == 1)|((A+B+C) == -3)').Total.sum())/(4*n)\n",
    "\n",
    "effect"
   ]
  },
  {
   "cell_type": "code",
   "execution_count": 108,
   "metadata": {},
   "outputs": [
    {
     "data": {
      "text/plain": [
       "{'A': -101.625,\n",
       " 'AB': -24.875,\n",
       " 'ABC': 5.625,\n",
       " 'AC': -153.625,\n",
       " 'B': 7.375,\n",
       " 'BC': -2.125,\n",
       " 'C': 306.125}"
      ]
     },
     "execution_count": 108,
     "metadata": {},
     "output_type": "execute_result"
    }
   ],
   "source": [
    "n = 2\n",
    "effect_1 = {}\n",
    "\n",
    "effect_1['A'] = (new_data.query('A == 1').Total.sum() - new_data.query('A == -1').Total.sum())/(4*n)\n",
    "effect_1['B'] = (new_data.query('B == 1').Total.sum() - new_data.query('B == -1').Total.sum())/(4*n)\n",
    "effect_1['C'] = (new_data.query('C == 1').Total.sum() - new_data.query('C == -1').Total.sum())/(4*n)\n",
    "\n",
    "effect_1['AB'] = (new_data.query('(A*B) == 1').Total.sum() - new_data.query('(A*B) == -1').Total.sum())/(4*n)\n",
    "effect_1['AC'] = (new_data.query('(A*C) == 1').Total.sum() - new_data.query('(A*C) == -1').Total.sum())/(4*n)\n",
    "effect_1['BC'] = (new_data.query('(B*C) == 1').Total.sum() - new_data.query('(B*C) == -1').Total.sum())/(4*n)\n",
    "\n",
    "effect_1['ABC'] = (new_data.query('(A*B*C) == 1').Total.sum() - new_data.query('(A*B*C) == -1').Total.sum())/(4*n)\n",
    "\n",
    "effect_1"
   ]
  },
  {
   "cell_type": "code",
   "execution_count": 85,
   "metadata": {},
   "outputs": [
    {
     "data": {
      "text/plain": [
       "{'A': 41310.5625,\n",
       " 'AB': 2475.0625,\n",
       " 'ABC': 126.5625,\n",
       " 'AC': 94402.5625,\n",
       " 'B': 217.5625,\n",
       " 'BC': 18.0625,\n",
       " 'C': 374850.0625,\n",
       " 'Total': 531420.9375}"
      ]
     },
     "execution_count": 85,
     "metadata": {},
     "output_type": "execute_result"
    }
   ],
   "source": [
    "SS = {x:((effect[x]*(4*n))**2)/(8*n) for x in effect.keys()}\n",
    "\n",
    "new_data['SqTotal'] = new_data.Rep1**2 + new_data.Rep2**2\n",
    "SS['Total'] = new_data.SqTotal.sum() - (new_data.Total.sum()**2)/(8*n)\n",
    "SS"
   ]
  },
  {
   "cell_type": "code",
   "execution_count": 88,
   "metadata": {},
   "outputs": [
    {
     "name": "stdout",
     "output_type": "stream",
     "text": [
      "A % contribution:  0.07773604610751716\n",
      "C % contribution:  0.7053731534617979\n",
      "AC % contribution:  0.17764178232062977\n"
     ]
    }
   ],
   "source": [
    "print('A % contribution: ', SS['A']/SS['Total'])\n",
    "print('C % contribution: ', SS['C']/SS['Total'])\n",
    "print('AC % contribution: ', SS['AC']/SS['Total'])"
   ]
  },
  {
   "cell_type": "markdown",
   "metadata": {},
   "source": [
    "## Computational ANOVA"
   ]
  },
  {
   "cell_type": "code",
   "execution_count": 91,
   "metadata": {},
   "outputs": [
    {
     "name": "stdout",
     "output_type": "stream",
     "text": [
      "               sum_sq   df           F    PR(>F)\n",
      "A          41310.5625  1.0   18.339364  0.002679\n",
      "B            217.5625  1.0    0.096584  0.763911\n",
      "A:B         2475.0625  1.0    1.098776  0.325168\n",
      "C         374850.0625  1.0  166.410505  0.000001\n",
      "A:C        94402.5625  1.0   41.908965  0.000193\n",
      "B:C           18.0625  1.0    0.008019  0.930849\n",
      "A:B:C        126.5625  1.0    0.056186  0.818586\n",
      "Residual   18020.5000  8.0         NaN       NaN\n"
     ]
    }
   ],
   "source": [
    "from statsmodels.formula.api import ols\n",
    "from statsmodels.stats.anova import anova_lm\n",
    "\n",
    "formula = 'Rate ~ A*B*C'\n",
    "model = ols(formula, data=data).fit()\n",
    "aov_table = anova_lm(model, typ=2)\n",
    "print(aov_table)"
   ]
  },
  {
   "cell_type": "markdown",
   "metadata": {},
   "source": [
    "Checks out. Now for pure model to calculate R^2"
   ]
  },
  {
   "cell_type": "code",
   "execution_count": 102,
   "metadata": {},
   "outputs": [
    {
     "data": {
      "text/plain": [
       "A            41310.5625\n",
       "C           374850.0625\n",
       "A:C          94402.5625\n",
       "Residual     20857.7500\n",
       "Name: sum_sq, dtype: float64"
      ]
     },
     "execution_count": 102,
     "metadata": {},
     "output_type": "execute_result"
    }
   ],
   "source": [
    "formula = 'Rate ~ A + C + A:C'\n",
    "pure_model = ols(formula, data=data).fit()\n",
    "aov_table = anova_lm(pure_model, typ=2)\n",
    "ss = aov_table.sum_sq\n",
    "s[0]"
   ]
  },
  {
   "cell_type": "code",
   "execution_count": 104,
   "metadata": {},
   "outputs": [
    {
     "name": "stdout",
     "output_type": "stream",
     "text": [
      "R^2:  0.96075098189\n"
     ]
    }
   ],
   "source": [
    "print('R^2: ', (ss[0]+ss[1]+ss[2])/ss.sum())"
   ]
  },
  {
   "cell_type": "markdown",
   "metadata": {},
   "source": [
    "## Single Replicate\n",
    "\n",
    "Due to *Sparsity of Effects* principle, you can combine higher order effects to calculate the error.\n",
    "\n",
    "Or use *Lenth's Method*, which uses multiples of the median effect sizes\n"
   ]
  },
  {
   "cell_type": "code",
   "execution_count": null,
   "metadata": {
    "collapsed": true
   },
   "outputs": [],
   "source": []
  }
 ],
 "metadata": {
  "kernelspec": {
   "display_name": "Python 3",
   "language": "python",
   "name": "python3"
  },
  "language_info": {
   "codemirror_mode": {
    "name": "ipython",
    "version": 3
   },
   "file_extension": ".py",
   "mimetype": "text/x-python",
   "name": "python",
   "nbconvert_exporter": "python",
   "pygments_lexer": "ipython3",
   "version": "3.6.1"
  }
 },
 "nbformat": 4,
 "nbformat_minor": 2
}
