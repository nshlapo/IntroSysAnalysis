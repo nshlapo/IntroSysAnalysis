{
 "cells": [
  {
   "cell_type": "code",
   "execution_count": 3,
   "metadata": {
    "collapsed": true
   },
   "outputs": [],
   "source": [
    "import random\n",
    "import copy\n",
    "import matplotlib.pyplot as plt\n",
    "\n",
    "class GeneticSearch:\n",
    "    def __init__(self, params):\n",
    "        self.repr_rate = params['repr_rate']\n",
    "        self.num_agents = params['num_agents']\n",
    "        \n",
    "        self.max_iters = params['max_iters']\n",
    "        self.stop_tol = params['stop_tol']\n",
    "        self.stop_tol_iters = params['stop_tol_iters']\n",
    "        \n",
    "        self.constraints = params['constraints']\n",
    "        \n",
    "        self.data_collector = {\n",
    "            'max_fitness': [],\n",
    "            'avg_fitness': [],\n",
    "            'num_mutations': [],\n",
    "            'num_crossovers': []\n",
    "        }\n",
    "\n",
    "        self.Population = GeneticPopulation(params['p_mut'], params['p_cross'], params['gene_list'], params['fitness_function'])\n",
    "    \n",
    "    def eval_func(self, agent):\n",
    "        \n",
    "        return self.fitness_func(agent.gene)\n",
    "    \n",
    "    def step_vdps(self):\n",
    "        self.repr_pairs = []\n",
    "        self.reproduce(0)\n",
    "        \n",
    "        for pair in self.repr_pairs:\n",
    "            pair[0].crossover(pair[1]) \n",
    "        \n",
    "        for pair in self.repr_pairs:\n",
    "            for agent in pair:\n",
    "                agent.mutate()\n",
    "        \n",
    "        for pair in self.repr_pairs:\n",
    "            for agent in pair:\n",
    "                agent.fit = self.eval_func(agent)\n",
    "    \n",
    "    def step_hw(self):\n",
    "\n",
    "        for i in range(len(self.agents)):\n",
    "            for j in range(i+1, len(self.agents)):\n",
    "                self.agents[i].crossover(self.agents[j])\n",
    "                    \n",
    "        \n",
    "        for agent in self.agents:\n",
    "            agent.hw_mutate()\n",
    "            agent.fit = self.eval_func(agent)\n",
    "            \n",
    "        self.agents.append(self.Population.curr_elite)\n",
    "        return 'Optimum: ' + str(best_agent.loc) + ' Fitness: ' + str(best_agent.fit)\n",
    "    \n",
    "                # Collect data\n",
    "        self.data_collector['max_fitness'].append(self.Population.curr_elite.fit)\n",
    "        self.data_collector['avg_fitness'].append(sum(self.Population.fits)/self.Population.num_agents)\n",
    "            \n",
    "            \n",
    "    def step(self):\n",
    "        \n",
    "        # Create pairs\n",
    "        # create new agents from crossover function\n",
    "        repr_pairs = []\n",
    "        new_agents = []\n",
    "        \n",
    "        for i in range(self.Population.num_agents//2):\n",
    "            repr_pairs.append((self.Population.select_agent(), self.Population.select_agent()))\n",
    "        \n",
    "        new_agents = [pair[0].crossover(pair[1]) for pair in repr_pairs]\n",
    "        new_agents = [agent for pair in new_agents for agent in pair]\n",
    "        self.Population.agents = new_agents\n",
    "        \n",
    "        for agent in self.Population.agents:\n",
    "            agent.hw_mutate()\n",
    "        \n",
    "        self.Population.agents.append(self.Population.curr_elite)\n",
    "        self.Population.calc_fit_values()\n",
    "        \n",
    "#         for agent in self.Population.agents:\n",
    "#             print(agent.gene)\n",
    "    \n",
    "    def run(self):\n",
    "        \n",
    "        diff = 0\n",
    "        not_converged = True\n",
    "        converged_count = 0\n",
    "        self.iter_count = 0\n",
    "        \n",
    "        self.Population.init_agents()\n",
    "        \n",
    "        # Check that the dimensions of everything matches here\n",
    "        \n",
    "        # Begin running the genetic search\n",
    "        while not_converged and (self.iter_count < self.max_iters):\n",
    "            \n",
    "            self.step_vdps()\n",
    "            \n",
    "            diff = self.Population.curr_elite.fit - self.Population.prev_elite.fit\n",
    "            if abs(diff) < self.stop_tol:\n",
    "                converged_count += 1\n",
    "            else:\n",
    "                converged_count = 0\n",
    "                \n",
    "            not_converged = True if converged_count < self.stop_tol_iters else False\n",
    "            self.iter_count += 1\n",
    "        \n",
    "#         print(best)\n",
    "            \n",
    "        \n",
    "    def reproduce(self, step_method):\n",
    "        \n",
    "        if step_method == 0:\n",
    "            for i in range(self.repr_rate):\n",
    "                agent1 = self.roulette_select(fs_roulette, random.random())\n",
    "                agent2 = self.roulette_select(fs_roulette, random.random())\n",
    "\n",
    "                self.repr_pairs.append((agent1, agent2))\n",
    "                \n",
    "        elif step_method == 1:\n",
    "            new_agents = []\n",
    "            for i in range(self.num_agents-1):\n",
    "                ag = self.roulette_select(fs_roulette, random.random())\n",
    "                new_agents.append(copy.deepcopy(ag))\n",
    "\n",
    "            self.agents = new_agents\n",
    "            return best_agent\n",
    "        \n",
    "    \n",
    "    def display_2d(self):\n",
    "        #Display current locations of agents\n",
    "        plt.cla()\n",
    "        plt.clf()\n",
    "        x_list = [agent.loc[0] for agent in self.agents]\n",
    "        y_list = [agent.loc[1] for agent in self.agents]\n",
    "#         plt.scatter(x_list, y_list)\n",
    "        plt.hexbin(x_list, y_list, gridsize=50, cmap='inferno')\n",
    "        plt.show()\n",
    "\n",
    "    \n",
    "        "
   ]
  },
  {
   "cell_type": "code",
   "execution_count": 104,
   "metadata": {
    "collapsed": true
   },
   "outputs": [],
   "source": [
    "class GeneticPopulation:\n",
    "    def __init__(self, p_mut, p_cross, gene_list, fitness_func):\n",
    "#         self.p_mut = p_mut\n",
    "#         self.p_cross = p_cross\n",
    "        self.num_agents = 0\n",
    "        self.agents = []\n",
    "        self.fits = []\n",
    "        self.curr_elite = None\n",
    "        self.prev_elite = None\n",
    "        self.roulette = []\n",
    "        self.fitness_func = fitness_func\n",
    "        \n",
    "        # Initialize agents based on genome list\n",
    "        self.agents = [GeneticAgent(gene, p_mut, p_cross) for gene in gene_list]\n",
    "        self.num_agents = len(self.agents)\n",
    "        self.curr_elite = random.choice(self.agents)\n",
    "        self.calc_fit_values()\n",
    "        self.calc_fit_values()\n",
    "    \n",
    "    def calc_fit_values(self):\n",
    "        ''' Calculate '''\n",
    "        \n",
    "        # recalculate fitness for each agent here\n",
    "        for agent in self.agents:\n",
    "            agent.fit = self.fitness_func(agent.gene)\n",
    "        \n",
    "        self.prev_elite = self.curr_elite\n",
    "        self.curr_elite = copy.deepcopy(min(self.agents, key=lambda x: x.fit))\n",
    "        \n",
    "        self.fits = [agent.fit for agent in self.agents]\n",
    "        self.calc_roulette()\n",
    "\n",
    "    \n",
    "    def calc_roulette(self):\n",
    "        ''' Normalize fits and create roulette wheel'''\n",
    "        # TODO check logic here\n",
    "#         fits_adj = [self.curr_elite.fit - fit for fit in self.fits]\n",
    "#         fits_adj = [max(self.fits) - fit for fit in self.fits]\n",
    "#         print('fits: ', self.fits)\n",
    "        fits_inv = [1/fit for fit in self.fits]\n",
    "        fits_inv_sum = sum(fits_inv)\n",
    "#         print('fits_adj: ', fits_adj)\n",
    "#         fits_norm = [fit/sum(fits_adj) for fit in fits_adj]\n",
    "        fits_norm = [fit/fits_inv_sum for fit in fits_inv]\n",
    "#         print('fits_norm: ', fits_norm)\n",
    "        wheel = [0.0]\n",
    "        \n",
    "        for norm_fit in fits_norm:\n",
    "            wheel.append(wheel[-1] + norm_fit)\n",
    "        \n",
    "        self.roulette = wheel\n",
    "        \n",
    "    def select_agent(self):\n",
    "        ''' Select an agent proportional to fitness on roulette wheel'''\n",
    "        \n",
    "        r = random.random()\n",
    "        for i in range(len(self.roulette)):\n",
    "            if r < self.roulette[i]:\n",
    "                return self.agents[i-1]"
   ]
  },
  {
   "cell_type": "code",
   "execution_count": 105,
   "metadata": {
    "collapsed": true
   },
   "outputs": [],
   "source": [
    "class GeneticAgent:\n",
    "    def __init__(self, gene, p_mut, p_cross):\n",
    "        self.gene = gene\n",
    "        self.p_mut = p_mut\n",
    "        self.p_cross = p_cross\n",
    "    \n",
    "    def crossover(self, other):\n",
    "        \n",
    "        gene1 = self.gene\n",
    "        gene2 = other.gene\n",
    "#         print('no crossover')\n",
    "#         print('gene 1: ', gene1)\n",
    "#         print('gene 2: ', gene2)\n",
    "        if random.random() < self.p_cross:\n",
    "#             print('crossover occured')\n",
    "            left = random.randint(0, len(self.gene)-1)\n",
    "            right = random.randint(0, len(self.gene)-1)     \n",
    "            gene1[left:right+1], gene2[left:right+1] = other.gene[left:right+1], self.gene[left:right+1]\n",
    "            \n",
    "        return GeneticAgent(gene1, self.p_mut, self.p_cross), GeneticAgent(gene2, self.p_mut, self.p_cross)\n",
    "    \n",
    "    def mutate(self):\n",
    "        if random.random() < self.p_mut:\n",
    "            r = random.randint(0, len(self.gene)-1)\n",
    "            self.gene[r] ^= 1\n",
    "            \n",
    "    def hw_mutate(self):\n",
    "        for i in range(len(self.gene)):\n",
    "            if random.random() < self.p_mut:\n",
    "                self.gene[i] ^= 1"
   ]
  },
  {
   "cell_type": "code",
   "execution_count": 27,
   "metadata": {
    "collapsed": true
   },
   "outputs": [],
   "source": [
    "def rand_gene(n):\n",
    "    binary = [0, 1]\n",
    "    return [random.choice(binary) for i in range(n)]\n",
    "    \n",
    "    \n",
    "\n",
    "# print(genomes)\n",
    "\n",
    "# P = GeneticPopulation(.8, .7, genomes, lambda x: -sum(x))"
   ]
  },
  {
   "cell_type": "markdown",
   "metadata": {},
   "source": [
    "### Confirm that roulette selection favors fitter agents"
   ]
  },
  {
   "cell_type": "code",
   "execution_count": 28,
   "metadata": {
    "collapsed": true
   },
   "outputs": [],
   "source": [
    "# print(P.fits)\n",
    "# print(sum(P.fits)/len(P.fits))\n",
    "\n",
    "# s = 0\n",
    "# for i in range(1000):\n",
    "#     s += P.select_agent().fit \n",
    "\n",
    "# print(s/1000)\n"
   ]
  },
  {
   "cell_type": "code",
   "execution_count": 29,
   "metadata": {
    "collapsed": true
   },
   "outputs": [],
   "source": [
    "g = GeneticAgent([0, 1, 1, 0, 1], 1, .4)"
   ]
  },
  {
   "cell_type": "code",
   "execution_count": 30,
   "metadata": {},
   "outputs": [
    {
     "data": {
      "text/plain": [
       "[0, 1, 1, 0, 1]"
      ]
     },
     "execution_count": 30,
     "metadata": {},
     "output_type": "execute_result"
    }
   ],
   "source": [
    "g.gene"
   ]
  },
  {
   "cell_type": "code",
   "execution_count": 31,
   "metadata": {},
   "outputs": [
    {
     "data": {
      "text/plain": [
       "[1, 0, 0, 1, 0]"
      ]
     },
     "execution_count": 31,
     "metadata": {},
     "output_type": "execute_result"
    }
   ],
   "source": [
    "g.hw_mutate()\n",
    "g.gene"
   ]
  },
  {
   "cell_type": "code",
   "execution_count": 86,
   "metadata": {
    "collapsed": true,
    "scrolled": true
   },
   "outputs": [],
   "source": [
    "genomes = [rand_gene(15) for i in range(10)]\n",
    "\n",
    "params = {\n",
    "    'num_agents': 100,\n",
    "    'fitness_function': lambda x: abs(5-sum(x))+1,\n",
    "    'gene_list': genomes,\n",
    "    'constraints': None,\n",
    "    'p_mut': .03,\n",
    "    'p_cross': .4,\n",
    "    'repr_rate': 10,\n",
    "    'max_iters': 300,\n",
    "    'stop_tol': 10**(-8),\n",
    "    'stop_tol_iters': 30\n",
    "}"
   ]
  },
  {
   "cell_type": "code",
   "execution_count": 87,
   "metadata": {},
   "outputs": [
    {
     "name": "stdout",
     "output_type": "stream",
     "text": [
      "fits:  [6, 6, 4, 6, 4, 3, 4, 4, 3, 5]\n",
      "fits_norm:  [0.0704225352112676, 0.0704225352112676, 0.1056338028169014, 0.0704225352112676, 0.1056338028169014, 0.1408450704225352, 0.1056338028169014, 0.1056338028169014, 0.1408450704225352, 0.08450704225352113]\n",
      "fits:  [6, 6, 4, 6, 4, 3, 4, 4, 3, 5]\n",
      "fits_norm:  [0.0704225352112676, 0.0704225352112676, 0.1056338028169014, 0.0704225352112676, 0.1056338028169014, 0.1408450704225352, 0.1056338028169014, 0.1056338028169014, 0.1408450704225352, 0.08450704225352113]\n",
      "[1, 1, 0, 1, 0, 1, 0, 1, 1, 1, 1, 0, 0, 1, 1]\n",
      "[1, 1, 1, 1, 0, 0, 1, 1, 1, 0, 1, 0, 1, 1, 0]\n",
      "[0, 1, 1, 1, 0, 1, 1, 1, 1, 0, 0, 0, 0, 0, 1]\n",
      "[1, 1, 0, 1, 1, 0, 0, 0, 0, 1, 1, 1, 1, 1, 1]\n",
      "[1, 0, 1, 1, 0, 0, 1, 1, 0, 0, 1, 0, 1, 1, 0]\n",
      "[1, 0, 1, 0, 1, 0, 1, 1, 0, 0, 0, 0, 1, 0, 1]\n",
      "[0, 1, 0, 0, 0, 1, 1, 0, 0, 1, 1, 1, 0, 1, 1]\n",
      "[1, 1, 1, 1, 0, 1, 0, 0, 0, 0, 0, 1, 1, 0, 1]\n",
      "[0, 0, 0, 0, 1, 0, 1, 1, 1, 1, 0, 1, 1, 0, 0]\n",
      "[1, 1, 0, 0, 0, 1, 1, 0, 1, 0, 1, 1, 1, 1, 0]\n"
     ]
    }
   ],
   "source": [
    "# G = GeneticSearch(params)\n",
    "# G.Population.fits\n",
    "# for agent in G.Population.agents:\n",
    "#     print(agent.gene)"
   ]
  },
  {
   "cell_type": "code",
   "execution_count": 88,
   "metadata": {},
   "outputs": [
    {
     "name": "stdout",
     "output_type": "stream",
     "text": [
      "no crossover\n",
      "gene 1:  [0, 0, 0, 0, 1, 0, 1, 1, 1, 1, 0, 1, 1, 0, 0]\n",
      "gene 2:  [1, 1, 1, 1, 0, 0, 1, 1, 1, 0, 1, 0, 1, 1, 0]\n",
      "no crossover\n",
      "gene 1:  [0, 1, 0, 0, 0, 1, 1, 0, 0, 1, 1, 1, 0, 1, 1]\n",
      "gene 2:  [0, 0, 0, 0, 1, 0, 1, 1, 1, 1, 0, 1, 1, 0, 0]\n",
      "no crossover\n",
      "gene 1:  [1, 0, 1, 0, 1, 0, 1, 1, 0, 0, 0, 0, 1, 0, 1]\n",
      "gene 2:  [1, 1, 0, 1, 0, 1, 0, 1, 1, 1, 1, 0, 0, 1, 1]\n",
      "crossover occured\n",
      "no crossover\n",
      "gene 1:  [1, 1, 1, 1, 0, 0, 1, 1, 1, 0, 1, 0, 1, 1, 0]\n",
      "gene 2:  [1, 1, 1, 1, 0, 1, 0, 0, 0, 0, 0, 1, 1, 0, 1]\n",
      "no crossover\n",
      "gene 1:  [0, 1, 1, 1, 0, 1, 1, 1, 1, 0, 0, 0, 0, 0, 1]\n",
      "gene 2:  [0, 0, 0, 0, 1, 0, 1, 1, 1, 1, 0, 1, 1, 0, 0]\n",
      "fits:  [4, 6, 4, 4, 6, 3, 6, 3, 5, 4, 3]\n",
      "fits_norm:  [0.09259259259259259, 0.061728395061728385, 0.09259259259259259, 0.09259259259259259, 0.061728395061728385, 0.12345679012345677, 0.061728395061728385, 0.12345679012345677, 0.07407407407407407, 0.09259259259259259, 0.12345679012345677]\n",
      "[1, 0, 0, 0, 1, 0, 1, 1, 1, 1, 0, 1, 1, 0, 0]\n",
      "[1, 1, 1, 1, 0, 0, 1, 1, 1, 0, 1, 0, 1, 1, 0]\n",
      "[0, 1, 0, 0, 0, 1, 1, 0, 0, 1, 1, 1, 0, 1, 1]\n",
      "[1, 0, 0, 0, 1, 0, 1, 1, 1, 1, 0, 1, 1, 0, 0]\n",
      "[1, 1, 0, 1, 0, 1, 0, 1, 1, 1, 1, 0, 1, 0, 1]\n",
      "[1, 0, 1, 0, 1, 0, 1, 1, 0, 0, 0, 0, 0, 1, 1]\n",
      "[1, 1, 1, 1, 0, 0, 1, 1, 1, 0, 1, 0, 1, 1, 0]\n",
      "[1, 1, 1, 1, 0, 0, 0, 0, 0, 0, 0, 1, 1, 0, 1]\n",
      "[0, 1, 1, 1, 0, 1, 1, 1, 1, 0, 0, 0, 0, 1, 1]\n",
      "[1, 0, 0, 0, 1, 0, 1, 1, 1, 1, 0, 1, 1, 0, 0]\n",
      "[1, 0, 1, 0, 1, 0, 1, 1, 0, 0, 0, 0, 1, 0, 1]\n"
     ]
    }
   ],
   "source": [
    "# G.step()\n",
    "    \n",
    "# for agent in G.Population.agents:\n",
    "#     print(agent.gene)"
   ]
  },
  {
   "cell_type": "code",
   "execution_count": null,
   "metadata": {
    "collapsed": true
   },
   "outputs": [],
   "source": []
  }
 ],
 "metadata": {
  "kernelspec": {
   "display_name": "Python 3",
   "language": "python",
   "name": "python3"
  },
  "language_info": {
   "codemirror_mode": {
    "name": "ipython",
    "version": 3
   },
   "file_extension": ".py",
   "mimetype": "text/x-python",
   "name": "python",
   "nbconvert_exporter": "python",
   "pygments_lexer": "ipython3",
   "version": "3.6.1"
  }
 },
 "nbformat": 4,
 "nbformat_minor": 2
}
