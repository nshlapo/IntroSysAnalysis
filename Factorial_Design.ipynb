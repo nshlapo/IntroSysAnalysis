{
 "cells": [
  {
   "cell_type": "markdown",
   "metadata": {},
   "source": [
    "# Factorial Design"
   ]
  },
  {
   "cell_type": "code",
   "execution_count": 2,
   "metadata": {},
   "outputs": [
    {
     "data": {
      "text/html": [
       "<div>\n",
       "<style>\n",
       "    .dataframe thead tr:only-child th {\n",
       "        text-align: right;\n",
       "    }\n",
       "\n",
       "    .dataframe thead th {\n",
       "        text-align: left;\n",
       "    }\n",
       "\n",
       "    .dataframe tbody tr th {\n",
       "        vertical-align: top;\n",
       "    }\n",
       "</style>\n",
       "<table border=\"1\" class=\"dataframe\">\n",
       "  <thead>\n",
       "    <tr style=\"text-align: right;\">\n",
       "      <th></th>\n",
       "      <th></th>\n",
       "      <th>0</th>\n",
       "      <th>1</th>\n",
       "    </tr>\n",
       "  </thead>\n",
       "  <tbody>\n",
       "    <tr>\n",
       "      <th rowspan=\"2\" valign=\"top\">a</th>\n",
       "      <th>c</th>\n",
       "      <td>1</td>\n",
       "      <td>2</td>\n",
       "    </tr>\n",
       "    <tr>\n",
       "      <th>d</th>\n",
       "      <td>3</td>\n",
       "      <td>4</td>\n",
       "    </tr>\n",
       "    <tr>\n",
       "      <th rowspan=\"2\" valign=\"top\">b</th>\n",
       "      <th>c</th>\n",
       "      <td>5</td>\n",
       "      <td>6</td>\n",
       "    </tr>\n",
       "    <tr>\n",
       "      <th>d</th>\n",
       "      <td>7</td>\n",
       "      <td>8</td>\n",
       "    </tr>\n",
       "  </tbody>\n",
       "</table>\n",
       "</div>"
      ],
      "text/plain": [
       "     0  1\n",
       "a c  1  2\n",
       "  d  3  4\n",
       "b c  5  6\n",
       "  d  7  8"
      ]
     },
     "execution_count": 2,
     "metadata": {},
     "output_type": "execute_result"
    }
   ],
   "source": [
    "# 3d Dataframe test\n",
    "import pandas as pd\n",
    "\n",
    "indices = [['a', 'b'], ['c', 'd']]\n",
    "multi_index = pd.MultiIndex.from_product(indices)\n",
    "\n",
    "data = [[1, 2], [3, 4], [5, 6], [7, 8]]\n",
    "\n",
    "df = pd.DataFrame(data, index=multi_index)\n",
    "df"
   ]
  },
  {
   "cell_type": "markdown",
   "metadata": {},
   "source": [
    "# By Hand"
   ]
  },
  {
   "cell_type": "code",
   "execution_count": 3,
   "metadata": {},
   "outputs": [
    {
     "data": {
      "text/html": [
       "<div>\n",
       "<style>\n",
       "    .dataframe thead tr:only-child th {\n",
       "        text-align: right;\n",
       "    }\n",
       "\n",
       "    .dataframe thead th {\n",
       "        text-align: left;\n",
       "    }\n",
       "\n",
       "    .dataframe tbody tr th {\n",
       "        vertical-align: top;\n",
       "    }\n",
       "</style>\n",
       "<table border=\"1\" class=\"dataframe\">\n",
       "  <thead>\n",
       "    <tr style=\"text-align: right;\">\n",
       "      <th></th>\n",
       "      <th></th>\n",
       "      <th>1</th>\n",
       "      <th>2</th>\n",
       "      <th>3</th>\n",
       "      <th>4</th>\n",
       "    </tr>\n",
       "  </thead>\n",
       "  <tbody>\n",
       "    <tr>\n",
       "      <th rowspan=\"3\" valign=\"top\">mat_1</th>\n",
       "      <th>15_deg</th>\n",
       "      <td>130</td>\n",
       "      <td>155</td>\n",
       "      <td>74</td>\n",
       "      <td>180</td>\n",
       "    </tr>\n",
       "    <tr>\n",
       "      <th>70_deg</th>\n",
       "      <td>34</td>\n",
       "      <td>40</td>\n",
       "      <td>80</td>\n",
       "      <td>75</td>\n",
       "    </tr>\n",
       "    <tr>\n",
       "      <th>125_deg</th>\n",
       "      <td>20</td>\n",
       "      <td>70</td>\n",
       "      <td>82</td>\n",
       "      <td>58</td>\n",
       "    </tr>\n",
       "    <tr>\n",
       "      <th rowspan=\"3\" valign=\"top\">mat_2</th>\n",
       "      <th>15_deg</th>\n",
       "      <td>150</td>\n",
       "      <td>188</td>\n",
       "      <td>159</td>\n",
       "      <td>126</td>\n",
       "    </tr>\n",
       "    <tr>\n",
       "      <th>70_deg</th>\n",
       "      <td>136</td>\n",
       "      <td>122</td>\n",
       "      <td>106</td>\n",
       "      <td>115</td>\n",
       "    </tr>\n",
       "    <tr>\n",
       "      <th>125_deg</th>\n",
       "      <td>25</td>\n",
       "      <td>70</td>\n",
       "      <td>58</td>\n",
       "      <td>45</td>\n",
       "    </tr>\n",
       "    <tr>\n",
       "      <th rowspan=\"3\" valign=\"top\">mat_3</th>\n",
       "      <th>15_deg</th>\n",
       "      <td>138</td>\n",
       "      <td>110</td>\n",
       "      <td>168</td>\n",
       "      <td>160</td>\n",
       "    </tr>\n",
       "    <tr>\n",
       "      <th>70_deg</th>\n",
       "      <td>174</td>\n",
       "      <td>120</td>\n",
       "      <td>150</td>\n",
       "      <td>139</td>\n",
       "    </tr>\n",
       "    <tr>\n",
       "      <th>125_deg</th>\n",
       "      <td>96</td>\n",
       "      <td>104</td>\n",
       "      <td>82</td>\n",
       "      <td>60</td>\n",
       "    </tr>\n",
       "  </tbody>\n",
       "</table>\n",
       "</div>"
      ],
      "text/plain": [
       "                 1    2    3    4\n",
       "mat_1 15_deg   130  155   74  180\n",
       "      70_deg    34   40   80   75\n",
       "      125_deg   20   70   82   58\n",
       "mat_2 15_deg   150  188  159  126\n",
       "      70_deg   136  122  106  115\n",
       "      125_deg   25   70   58   45\n",
       "mat_3 15_deg   138  110  168  160\n",
       "      70_deg   174  120  150  139\n",
       "      125_deg   96  104   82   60"
      ]
     },
     "execution_count": 3,
     "metadata": {},
     "output_type": "execute_result"
    }
   ],
   "source": [
    "import pandas as pd\n",
    "\n",
    "indices = [['mat_1', 'mat_2', 'mat_3'], ['15_deg', '70_deg', '125_deg']]\n",
    "multi_index = pd.MultiIndex.from_product(indices)\n",
    "\n",
    "data = [\n",
    "    [130, 155, 74, 180], \n",
    "    [34, 40, 80, 75],\n",
    "    [20, 70, 82, 58],\n",
    "    [150, 188, 159, 126],\n",
    "    [136, 122, 106, 115],\n",
    "    [25, 70, 58, 45],\n",
    "    [138, 110, 168, 160],\n",
    "    [174, 120, 150, 139],\n",
    "    [96, 104, 82, 60]\n",
    "       ]\n",
    "\n",
    "df = pd.DataFrame(data, index=multi_index, columns=[1, 2, 3, 4])\n",
    "df"
   ]
  },
  {
   "cell_type": "code",
   "execution_count": 4,
   "metadata": {},
   "outputs": [
    {
     "name": "stdout",
     "output_type": "stream",
     "text": [
      "3 3 4 3799 [ 998 1300 1501] [ 770 1738 1291] [539 229 230 623 479 198 576 583 342]\n"
     ]
    }
   ],
   "source": [
    "a = len(df.index.levels[0])\n",
    "b = len(df.index.levels[1])\n",
    "n = len(df.columns)\n",
    "\n",
    "grand_total = df.sum().sum()\n",
    "a_totals = df.groupby(level=0).sum().sum(axis=1).values\n",
    "b_totals = df.groupby(level=1).sum().sum(axis=1).values\n",
    "cell_totals = df.sum(axis=1).values\n",
    "\n",
    "print(a, b, n, grand_total, a_totals, b_totals, cell_totals)"
   ]
  },
  {
   "cell_type": "code",
   "execution_count": 5,
   "metadata": {},
   "outputs": [
    {
     "name": "stdout",
     "output_type": "stream",
     "text": [
      "77646.9722222 10683.7222222 39118.7222222 9613.77777778 18230.75\n"
     ]
    }
   ],
   "source": [
    "ss_t = sum([i**2 for i in df.values.flatten()]) - (grand_total**2)/(a*b*n)\n",
    "ss_a = sum([i**2 for i in a_totals])/(b*n) - (grand_total**2)/(a*b*n)\n",
    "ss_b = sum([i**2 for i in b_totals])/(a*n) - (grand_total**2)/(a*b*n)\n",
    "ss_axb = sum([i**2 for i in cell_totals])/n - (grand_total**2)/(a*b*n) - ss_a - ss_b\n",
    "ss_e = ss_t - ss_a - ss_b - ss_axb\n",
    "\n",
    "print(ss_t, ss_a, ss_b, ss_axb, ss_e)"
   ]
  },
  {
   "cell_type": "code",
   "execution_count": 6,
   "metadata": {},
   "outputs": [
    {
     "data": {
      "text/plain": [
       "True"
      ]
     },
     "execution_count": 6,
     "metadata": {},
     "output_type": "execute_result"
    }
   ],
   "source": [
    "dof_a = a - 1 \n",
    "dof_b = b - 1\n",
    "dof_axb = dof_a*dof_b\n",
    "dof_e = a*b*(n - 1)\n",
    "dof_t = n*a*b - 1\n",
    "\n",
    "dof_t == dof_a + dof_b + dof_axb + dof_e"
   ]
  },
  {
   "cell_type": "code",
   "execution_count": 7,
   "metadata": {
    "collapsed": true
   },
   "outputs": [],
   "source": [
    "mean_ss_t = ss_t/dof_t\n",
    "mean_ss_a = ss_a/dof_a\n",
    "mean_ss_b = ss_b/dof_b\n",
    "mean_ss_axb = ss_axb/dof_axb\n",
    "mean_ss_e = ss_e/dof_e"
   ]
  },
  {
   "cell_type": "code",
   "execution_count": 8,
   "metadata": {},
   "outputs": [
    {
     "name": "stdout",
     "output_type": "stream",
     "text": [
      "Material Type F0:  7.91137226938\n",
      "Temperature F0:  28.967691949\n",
      "Interaction F0:  3.55953540035\n"
     ]
    }
   ],
   "source": [
    "f_a = mean_ss_a/mean_ss_e\n",
    "f_b = mean_ss_b/mean_ss_e\n",
    "f_axb = mean_ss_axb/mean_ss_e\n",
    "print('Material Type F0: ', f_a)\n",
    "print('Temperature F0: ', f_b)\n",
    "print('Interaction F0: ', f_axb)"
   ]
  },
  {
   "cell_type": "markdown",
   "metadata": {},
   "source": [
    "# With statsmodels"
   ]
  },
  {
   "cell_type": "code",
   "execution_count": 9,
   "metadata": {},
   "outputs": [
    {
     "data": {
      "text/html": [
       "<div>\n",
       "<style>\n",
       "    .dataframe thead tr:only-child th {\n",
       "        text-align: right;\n",
       "    }\n",
       "\n",
       "    .dataframe thead th {\n",
       "        text-align: left;\n",
       "    }\n",
       "\n",
       "    .dataframe tbody tr th {\n",
       "        vertical-align: top;\n",
       "    }\n",
       "</style>\n",
       "<table border=\"1\" class=\"dataframe\">\n",
       "  <thead>\n",
       "    <tr style=\"text-align: right;\">\n",
       "      <th></th>\n",
       "      <th>Batt_Life</th>\n",
       "      <th>Mat_Type</th>\n",
       "      <th>Temp</th>\n",
       "    </tr>\n",
       "  </thead>\n",
       "  <tbody>\n",
       "    <tr>\n",
       "      <th>0</th>\n",
       "      <td>130</td>\n",
       "      <td>1</td>\n",
       "      <td>15</td>\n",
       "    </tr>\n",
       "    <tr>\n",
       "      <th>1</th>\n",
       "      <td>155</td>\n",
       "      <td>1</td>\n",
       "      <td>15</td>\n",
       "    </tr>\n",
       "    <tr>\n",
       "      <th>2</th>\n",
       "      <td>74</td>\n",
       "      <td>1</td>\n",
       "      <td>15</td>\n",
       "    </tr>\n",
       "    <tr>\n",
       "      <th>3</th>\n",
       "      <td>180</td>\n",
       "      <td>1</td>\n",
       "      <td>15</td>\n",
       "    </tr>\n",
       "    <tr>\n",
       "      <th>4</th>\n",
       "      <td>34</td>\n",
       "      <td>1</td>\n",
       "      <td>70</td>\n",
       "    </tr>\n",
       "    <tr>\n",
       "      <th>5</th>\n",
       "      <td>40</td>\n",
       "      <td>1</td>\n",
       "      <td>70</td>\n",
       "    </tr>\n",
       "    <tr>\n",
       "      <th>6</th>\n",
       "      <td>80</td>\n",
       "      <td>1</td>\n",
       "      <td>70</td>\n",
       "    </tr>\n",
       "    <tr>\n",
       "      <th>7</th>\n",
       "      <td>75</td>\n",
       "      <td>1</td>\n",
       "      <td>70</td>\n",
       "    </tr>\n",
       "    <tr>\n",
       "      <th>8</th>\n",
       "      <td>20</td>\n",
       "      <td>1</td>\n",
       "      <td>125</td>\n",
       "    </tr>\n",
       "    <tr>\n",
       "      <th>9</th>\n",
       "      <td>70</td>\n",
       "      <td>1</td>\n",
       "      <td>125</td>\n",
       "    </tr>\n",
       "    <tr>\n",
       "      <th>10</th>\n",
       "      <td>82</td>\n",
       "      <td>1</td>\n",
       "      <td>125</td>\n",
       "    </tr>\n",
       "    <tr>\n",
       "      <th>11</th>\n",
       "      <td>58</td>\n",
       "      <td>1</td>\n",
       "      <td>125</td>\n",
       "    </tr>\n",
       "    <tr>\n",
       "      <th>12</th>\n",
       "      <td>150</td>\n",
       "      <td>2</td>\n",
       "      <td>15</td>\n",
       "    </tr>\n",
       "    <tr>\n",
       "      <th>13</th>\n",
       "      <td>188</td>\n",
       "      <td>2</td>\n",
       "      <td>15</td>\n",
       "    </tr>\n",
       "    <tr>\n",
       "      <th>14</th>\n",
       "      <td>159</td>\n",
       "      <td>2</td>\n",
       "      <td>15</td>\n",
       "    </tr>\n",
       "    <tr>\n",
       "      <th>15</th>\n",
       "      <td>126</td>\n",
       "      <td>2</td>\n",
       "      <td>15</td>\n",
       "    </tr>\n",
       "    <tr>\n",
       "      <th>16</th>\n",
       "      <td>136</td>\n",
       "      <td>2</td>\n",
       "      <td>70</td>\n",
       "    </tr>\n",
       "    <tr>\n",
       "      <th>17</th>\n",
       "      <td>122</td>\n",
       "      <td>2</td>\n",
       "      <td>70</td>\n",
       "    </tr>\n",
       "    <tr>\n",
       "      <th>18</th>\n",
       "      <td>106</td>\n",
       "      <td>2</td>\n",
       "      <td>70</td>\n",
       "    </tr>\n",
       "    <tr>\n",
       "      <th>19</th>\n",
       "      <td>115</td>\n",
       "      <td>2</td>\n",
       "      <td>70</td>\n",
       "    </tr>\n",
       "    <tr>\n",
       "      <th>20</th>\n",
       "      <td>25</td>\n",
       "      <td>2</td>\n",
       "      <td>125</td>\n",
       "    </tr>\n",
       "    <tr>\n",
       "      <th>21</th>\n",
       "      <td>70</td>\n",
       "      <td>2</td>\n",
       "      <td>125</td>\n",
       "    </tr>\n",
       "    <tr>\n",
       "      <th>22</th>\n",
       "      <td>58</td>\n",
       "      <td>2</td>\n",
       "      <td>125</td>\n",
       "    </tr>\n",
       "    <tr>\n",
       "      <th>23</th>\n",
       "      <td>45</td>\n",
       "      <td>2</td>\n",
       "      <td>125</td>\n",
       "    </tr>\n",
       "    <tr>\n",
       "      <th>24</th>\n",
       "      <td>138</td>\n",
       "      <td>3</td>\n",
       "      <td>15</td>\n",
       "    </tr>\n",
       "    <tr>\n",
       "      <th>25</th>\n",
       "      <td>110</td>\n",
       "      <td>3</td>\n",
       "      <td>15</td>\n",
       "    </tr>\n",
       "    <tr>\n",
       "      <th>26</th>\n",
       "      <td>168</td>\n",
       "      <td>3</td>\n",
       "      <td>15</td>\n",
       "    </tr>\n",
       "    <tr>\n",
       "      <th>27</th>\n",
       "      <td>160</td>\n",
       "      <td>3</td>\n",
       "      <td>15</td>\n",
       "    </tr>\n",
       "    <tr>\n",
       "      <th>28</th>\n",
       "      <td>174</td>\n",
       "      <td>3</td>\n",
       "      <td>70</td>\n",
       "    </tr>\n",
       "    <tr>\n",
       "      <th>29</th>\n",
       "      <td>120</td>\n",
       "      <td>3</td>\n",
       "      <td>70</td>\n",
       "    </tr>\n",
       "    <tr>\n",
       "      <th>30</th>\n",
       "      <td>150</td>\n",
       "      <td>3</td>\n",
       "      <td>70</td>\n",
       "    </tr>\n",
       "    <tr>\n",
       "      <th>31</th>\n",
       "      <td>139</td>\n",
       "      <td>3</td>\n",
       "      <td>70</td>\n",
       "    </tr>\n",
       "    <tr>\n",
       "      <th>32</th>\n",
       "      <td>96</td>\n",
       "      <td>3</td>\n",
       "      <td>125</td>\n",
       "    </tr>\n",
       "    <tr>\n",
       "      <th>33</th>\n",
       "      <td>104</td>\n",
       "      <td>3</td>\n",
       "      <td>125</td>\n",
       "    </tr>\n",
       "    <tr>\n",
       "      <th>34</th>\n",
       "      <td>82</td>\n",
       "      <td>3</td>\n",
       "      <td>125</td>\n",
       "    </tr>\n",
       "    <tr>\n",
       "      <th>35</th>\n",
       "      <td>60</td>\n",
       "      <td>3</td>\n",
       "      <td>125</td>\n",
       "    </tr>\n",
       "  </tbody>\n",
       "</table>\n",
       "</div>"
      ],
      "text/plain": [
       "    Batt_Life  Mat_Type  Temp\n",
       "0         130         1    15\n",
       "1         155         1    15\n",
       "2          74         1    15\n",
       "3         180         1    15\n",
       "4          34         1    70\n",
       "5          40         1    70\n",
       "6          80         1    70\n",
       "7          75         1    70\n",
       "8          20         1   125\n",
       "9          70         1   125\n",
       "10         82         1   125\n",
       "11         58         1   125\n",
       "12        150         2    15\n",
       "13        188         2    15\n",
       "14        159         2    15\n",
       "15        126         2    15\n",
       "16        136         2    70\n",
       "17        122         2    70\n",
       "18        106         2    70\n",
       "19        115         2    70\n",
       "20         25         2   125\n",
       "21         70         2   125\n",
       "22         58         2   125\n",
       "23         45         2   125\n",
       "24        138         3    15\n",
       "25        110         3    15\n",
       "26        168         3    15\n",
       "27        160         3    15\n",
       "28        174         3    70\n",
       "29        120         3    70\n",
       "30        150         3    70\n",
       "31        139         3    70\n",
       "32         96         3   125\n",
       "33        104         3   125\n",
       "34         82         3   125\n",
       "35         60         3   125"
      ]
     },
     "execution_count": 9,
     "metadata": {},
     "output_type": "execute_result"
    }
   ],
   "source": [
    "data = [\n",
    "    [130, 155, 74, 180], \n",
    "    [34, 40, 80, 75],\n",
    "    [20, 70, 82, 58],\n",
    "    [150, 188, 159, 126],\n",
    "    [136, 122, 106, 115],\n",
    "    [25, 70, 58, 45],\n",
    "    [138, 110, 168, 160],\n",
    "    [174, 120, 150, 139],\n",
    "    [96, 104, 82, 60]\n",
    "       ]\n",
    "\n",
    "data = [item for l in data for item in l]\n",
    "material = [1]*12 + [2]*12 + [3]*12\n",
    "temp = [15]*4 + [70]*4 + [125]*4\n",
    "temp = temp*3\n",
    "\n",
    "df_life = pd.DataFrame({'Batt_Life': data, 'Mat_Type': material, 'Temp': temp})\n",
    "df_life"
   ]
  },
  {
   "cell_type": "code",
   "execution_count": 10,
   "metadata": {},
   "outputs": [
    {
     "name": "stdout",
     "output_type": "stream",
     "text": [
      "                           sum_sq    df          F        PR(>F)\n",
      "C(Mat_Type)          10683.722222   2.0   7.911372  1.976083e-03\n",
      "C(Temp)              39118.722222   2.0  28.967692  1.908596e-07\n",
      "C(Mat_Type):C(Temp)   9613.777778   4.0   3.559535  1.861117e-02\n",
      "Residual             18230.750000  27.0        NaN           NaN\n"
     ]
    }
   ],
   "source": [
    "from statsmodels.formula.api import ols\n",
    "from statsmodels.stats.anova import anova_lm\n",
    "formula = ('Batt_Life ~ C(Mat_Type) + C(Temp) + C(Mat_Type):C(Temp)')\n",
    "res = ols(formula, data=df_life).fit()\n",
    "aov_table = anova_lm(res, typ=2)\n",
    "print(aov_table)"
   ]
  },
  {
   "cell_type": "code",
   "execution_count": 11,
   "metadata": {},
   "outputs": [
    {
     "data": {
      "image/png": "[encoded data removed]",
      "text/plain": [
       "<matplotlib.figure.Figure at 0x7f4fb4fcb048>"
      ]
     },
     "metadata": {},
     "output_type": "display_data"
    }
   ],
   "source": [
    "from statsmodels.graphics.factorplots import interaction_plot\n",
    "import matplotlib.pyplot as plt\n",
    "fig = interaction_plot(df_life.Temp, df_life.Mat_Type, df_life.Batt_Life)\n",
    "plt.show()"
   ]
  },
  {
   "cell_type": "code",
   "execution_count": 12,
   "metadata": {},
   "outputs": [
    {
     "data": {
      "image/png": "[encoded data removed]",
      "text/plain": [
       "<matplotlib.figure.Figure at 0x7f4fb4fcbe48>"
      ]
     },
     "metadata": {},
     "output_type": "display_data"
    }
   ],
   "source": [
    "from statsmodels.graphics.gofplots import qqplot\n",
    "resid = res.resid\n",
    "fig = qqplot(resid, line='s')\n",
    "plt.show()"
   ]
  },
  {
   "cell_type": "markdown",
   "metadata": {},
   "source": [
    "# No repeated observations"
   ]
  },
  {
   "cell_type": "code",
   "execution_count": 13,
   "metadata": {},
   "outputs": [
    {
     "data": {
      "text/html": [
       "<div>\n",
       "<style>\n",
       "    .dataframe thead tr:only-child th {\n",
       "        text-align: right;\n",
       "    }\n",
       "\n",
       "    .dataframe thead th {\n",
       "        text-align: left;\n",
       "    }\n",
       "\n",
       "    .dataframe tbody tr th {\n",
       "        vertical-align: top;\n",
       "    }\n",
       "</style>\n",
       "<table border=\"1\" class=\"dataframe\">\n",
       "  <thead>\n",
       "    <tr style=\"text-align: right;\">\n",
       "      <th></th>\n",
       "      <th>Impurity</th>\n",
       "      <th>Pressure</th>\n",
       "      <th>Temp</th>\n",
       "    </tr>\n",
       "  </thead>\n",
       "  <tbody>\n",
       "    <tr>\n",
       "      <th>0</th>\n",
       "      <td>5</td>\n",
       "      <td>25</td>\n",
       "      <td>100</td>\n",
       "    </tr>\n",
       "    <tr>\n",
       "      <th>1</th>\n",
       "      <td>4</td>\n",
       "      <td>30</td>\n",
       "      <td>100</td>\n",
       "    </tr>\n",
       "    <tr>\n",
       "      <th>2</th>\n",
       "      <td>6</td>\n",
       "      <td>35</td>\n",
       "      <td>100</td>\n",
       "    </tr>\n",
       "    <tr>\n",
       "      <th>3</th>\n",
       "      <td>3</td>\n",
       "      <td>40</td>\n",
       "      <td>100</td>\n",
       "    </tr>\n",
       "    <tr>\n",
       "      <th>4</th>\n",
       "      <td>5</td>\n",
       "      <td>45</td>\n",
       "      <td>100</td>\n",
       "    </tr>\n",
       "    <tr>\n",
       "      <th>5</th>\n",
       "      <td>3</td>\n",
       "      <td>25</td>\n",
       "      <td>125</td>\n",
       "    </tr>\n",
       "    <tr>\n",
       "      <th>6</th>\n",
       "      <td>1</td>\n",
       "      <td>30</td>\n",
       "      <td>125</td>\n",
       "    </tr>\n",
       "    <tr>\n",
       "      <th>7</th>\n",
       "      <td>4</td>\n",
       "      <td>35</td>\n",
       "      <td>125</td>\n",
       "    </tr>\n",
       "    <tr>\n",
       "      <th>8</th>\n",
       "      <td>2</td>\n",
       "      <td>40</td>\n",
       "      <td>125</td>\n",
       "    </tr>\n",
       "    <tr>\n",
       "      <th>9</th>\n",
       "      <td>3</td>\n",
       "      <td>45</td>\n",
       "      <td>125</td>\n",
       "    </tr>\n",
       "    <tr>\n",
       "      <th>10</th>\n",
       "      <td>1</td>\n",
       "      <td>25</td>\n",
       "      <td>150</td>\n",
       "    </tr>\n",
       "    <tr>\n",
       "      <th>11</th>\n",
       "      <td>1</td>\n",
       "      <td>30</td>\n",
       "      <td>150</td>\n",
       "    </tr>\n",
       "    <tr>\n",
       "      <th>12</th>\n",
       "      <td>3</td>\n",
       "      <td>35</td>\n",
       "      <td>150</td>\n",
       "    </tr>\n",
       "    <tr>\n",
       "      <th>13</th>\n",
       "      <td>1</td>\n",
       "      <td>40</td>\n",
       "      <td>150</td>\n",
       "    </tr>\n",
       "    <tr>\n",
       "      <th>14</th>\n",
       "      <td>2</td>\n",
       "      <td>45</td>\n",
       "      <td>150</td>\n",
       "    </tr>\n",
       "  </tbody>\n",
       "</table>\n",
       "</div>"
      ],
      "text/plain": [
       "    Impurity  Pressure  Temp\n",
       "0          5        25   100\n",
       "1          4        30   100\n",
       "2          6        35   100\n",
       "3          3        40   100\n",
       "4          5        45   100\n",
       "5          3        25   125\n",
       "6          1        30   125\n",
       "7          4        35   125\n",
       "8          2        40   125\n",
       "9          3        45   125\n",
       "10         1        25   150\n",
       "11         1        30   150\n",
       "12         3        35   150\n",
       "13         1        40   150\n",
       "14         2        45   150"
      ]
     },
     "execution_count": 13,
     "metadata": {},
     "output_type": "execute_result"
    }
   ],
   "source": [
    "data_imp = [\n",
    "    [5, 4, 6, 3, 5], \n",
    "    [3, 1, 4, 2, 3],\n",
    "    [1, 1, 3, 1, 2]\n",
    "    ]\n",
    "\n",
    "data_imp = [item for l in data_imp for item in l]\n",
    "temp = [100]*5 + [125]*5 + [150]*5\n",
    "pres = [25, 30, 35, 40, 45]\n",
    "pres = pres*3\n",
    "\n",
    "df_imp = pd.DataFrame({'Impurity': data_imp, 'Temp': temp, 'Pressure': pres})\n",
    "df_imp"
   ]
  },
  {
   "cell_type": "code",
   "execution_count": 14,
   "metadata": {
    "collapsed": true
   },
   "outputs": [],
   "source": [
    "formula = 'Impurity ~ C(Pressure) + C(Temp) + C(Temp):C(Pressure)'\n",
    "res = ols(formula, data=df_imp).fit()\n",
    "# aov_table = anova_lm(res, typ=2)\n",
    "# print(aov_table)"
   ]
  },
  {
   "cell_type": "markdown",
   "metadata": {
    "collapsed": true
   },
   "source": [
    "# General Factorial Design"
   ]
  },
  {
   "cell_type": "code",
   "execution_count": 15,
   "metadata": {},
   "outputs": [
    {
     "data": {
      "text/html": [
       "<div>\n",
       "<style>\n",
       "    .dataframe thead tr:only-child th {\n",
       "        text-align: right;\n",
       "    }\n",
       "\n",
       "    .dataframe thead th {\n",
       "        text-align: left;\n",
       "    }\n",
       "\n",
       "    .dataframe tbody tr th {\n",
       "        vertical-align: top;\n",
       "    }\n",
       "</style>\n",
       "<table border=\"1\" class=\"dataframe\">\n",
       "  <thead>\n",
       "    <tr style=\"text-align: right;\">\n",
       "      <th></th>\n",
       "      <th>Carbonation</th>\n",
       "      <th>Fill_Dev</th>\n",
       "      <th>Pressure</th>\n",
       "      <th>Speed</th>\n",
       "    </tr>\n",
       "  </thead>\n",
       "  <tbody>\n",
       "    <tr>\n",
       "      <th>0</th>\n",
       "      <td>10</td>\n",
       "      <td>-3</td>\n",
       "      <td>25</td>\n",
       "      <td>200</td>\n",
       "    </tr>\n",
       "    <tr>\n",
       "      <th>1</th>\n",
       "      <td>10</td>\n",
       "      <td>-1</td>\n",
       "      <td>25</td>\n",
       "      <td>200</td>\n",
       "    </tr>\n",
       "    <tr>\n",
       "      <th>2</th>\n",
       "      <td>10</td>\n",
       "      <td>-1</td>\n",
       "      <td>25</td>\n",
       "      <td>250</td>\n",
       "    </tr>\n",
       "    <tr>\n",
       "      <th>3</th>\n",
       "      <td>10</td>\n",
       "      <td>0</td>\n",
       "      <td>25</td>\n",
       "      <td>250</td>\n",
       "    </tr>\n",
       "    <tr>\n",
       "      <th>4</th>\n",
       "      <td>12</td>\n",
       "      <td>0</td>\n",
       "      <td>25</td>\n",
       "      <td>200</td>\n",
       "    </tr>\n",
       "    <tr>\n",
       "      <th>5</th>\n",
       "      <td>12</td>\n",
       "      <td>1</td>\n",
       "      <td>25</td>\n",
       "      <td>200</td>\n",
       "    </tr>\n",
       "    <tr>\n",
       "      <th>6</th>\n",
       "      <td>12</td>\n",
       "      <td>2</td>\n",
       "      <td>25</td>\n",
       "      <td>250</td>\n",
       "    </tr>\n",
       "    <tr>\n",
       "      <th>7</th>\n",
       "      <td>12</td>\n",
       "      <td>1</td>\n",
       "      <td>25</td>\n",
       "      <td>250</td>\n",
       "    </tr>\n",
       "    <tr>\n",
       "      <th>8</th>\n",
       "      <td>14</td>\n",
       "      <td>5</td>\n",
       "      <td>25</td>\n",
       "      <td>200</td>\n",
       "    </tr>\n",
       "    <tr>\n",
       "      <th>9</th>\n",
       "      <td>14</td>\n",
       "      <td>4</td>\n",
       "      <td>25</td>\n",
       "      <td>200</td>\n",
       "    </tr>\n",
       "    <tr>\n",
       "      <th>10</th>\n",
       "      <td>14</td>\n",
       "      <td>7</td>\n",
       "      <td>25</td>\n",
       "      <td>250</td>\n",
       "    </tr>\n",
       "    <tr>\n",
       "      <th>11</th>\n",
       "      <td>14</td>\n",
       "      <td>6</td>\n",
       "      <td>25</td>\n",
       "      <td>250</td>\n",
       "    </tr>\n",
       "    <tr>\n",
       "      <th>12</th>\n",
       "      <td>10</td>\n",
       "      <td>-1</td>\n",
       "      <td>30</td>\n",
       "      <td>200</td>\n",
       "    </tr>\n",
       "    <tr>\n",
       "      <th>13</th>\n",
       "      <td>10</td>\n",
       "      <td>0</td>\n",
       "      <td>30</td>\n",
       "      <td>200</td>\n",
       "    </tr>\n",
       "    <tr>\n",
       "      <th>14</th>\n",
       "      <td>10</td>\n",
       "      <td>1</td>\n",
       "      <td>30</td>\n",
       "      <td>250</td>\n",
       "    </tr>\n",
       "    <tr>\n",
       "      <th>15</th>\n",
       "      <td>10</td>\n",
       "      <td>1</td>\n",
       "      <td>30</td>\n",
       "      <td>250</td>\n",
       "    </tr>\n",
       "    <tr>\n",
       "      <th>16</th>\n",
       "      <td>12</td>\n",
       "      <td>2</td>\n",
       "      <td>30</td>\n",
       "      <td>200</td>\n",
       "    </tr>\n",
       "    <tr>\n",
       "      <th>17</th>\n",
       "      <td>12</td>\n",
       "      <td>3</td>\n",
       "      <td>30</td>\n",
       "      <td>200</td>\n",
       "    </tr>\n",
       "    <tr>\n",
       "      <th>18</th>\n",
       "      <td>12</td>\n",
       "      <td>6</td>\n",
       "      <td>30</td>\n",
       "      <td>250</td>\n",
       "    </tr>\n",
       "    <tr>\n",
       "      <th>19</th>\n",
       "      <td>12</td>\n",
       "      <td>5</td>\n",
       "      <td>30</td>\n",
       "      <td>250</td>\n",
       "    </tr>\n",
       "    <tr>\n",
       "      <th>20</th>\n",
       "      <td>14</td>\n",
       "      <td>7</td>\n",
       "      <td>30</td>\n",
       "      <td>200</td>\n",
       "    </tr>\n",
       "    <tr>\n",
       "      <th>21</th>\n",
       "      <td>14</td>\n",
       "      <td>9</td>\n",
       "      <td>30</td>\n",
       "      <td>200</td>\n",
       "    </tr>\n",
       "    <tr>\n",
       "      <th>22</th>\n",
       "      <td>14</td>\n",
       "      <td>10</td>\n",
       "      <td>30</td>\n",
       "      <td>250</td>\n",
       "    </tr>\n",
       "    <tr>\n",
       "      <th>23</th>\n",
       "      <td>14</td>\n",
       "      <td>11</td>\n",
       "      <td>30</td>\n",
       "      <td>250</td>\n",
       "    </tr>\n",
       "  </tbody>\n",
       "</table>\n",
       "</div>"
      ],
      "text/plain": [
       "    Carbonation  Fill_Dev  Pressure  Speed\n",
       "0            10        -3        25    200\n",
       "1            10        -1        25    200\n",
       "2            10        -1        25    250\n",
       "3            10         0        25    250\n",
       "4            12         0        25    200\n",
       "5            12         1        25    200\n",
       "6            12         2        25    250\n",
       "7            12         1        25    250\n",
       "8            14         5        25    200\n",
       "9            14         4        25    200\n",
       "10           14         7        25    250\n",
       "11           14         6        25    250\n",
       "12           10        -1        30    200\n",
       "13           10         0        30    200\n",
       "14           10         1        30    250\n",
       "15           10         1        30    250\n",
       "16           12         2        30    200\n",
       "17           12         3        30    200\n",
       "18           12         6        30    250\n",
       "19           12         5        30    250\n",
       "20           14         7        30    200\n",
       "21           14         9        30    200\n",
       "22           14        10        30    250\n",
       "23           14        11        30    250"
      ]
     },
     "execution_count": 15,
     "metadata": {},
     "output_type": "execute_result"
    }
   ],
   "source": [
    "dev_drink = [-3, -1, -1, 0, 0, 1, 2, 1, 5, 4, 7, 6, -1, 0, 1, 1, 2, 3, 6, 5, 7, 9, 10, 11]\n",
    "pres_drink = [25]*12 + [30]*12\n",
    "speed_drink = [200, 200, 250, 250]*6\n",
    "carb_drink = [10, 10, 10, 10, 12, 12, 12, 12, 14, 14, 14, 14]*2\n",
    "df_dev = pd.DataFrame({'Fill_Dev': dev_drink, 'Pressure': pres_drink, 'Speed': speed_drink, 'Carbonation': carb_drink})\n",
    "df_dev"
   ]
  },
  {
   "cell_type": "code",
   "execution_count": 16,
   "metadata": {},
   "outputs": [
    {
     "name": "stdout",
     "output_type": "stream",
     "text": [
      "                                         sum_sq    df           F  \\\n",
      "C(Carbonation)                       252.750000   2.0  178.411765   \n",
      "C(Pressure)                           45.375000   1.0   64.058824   \n",
      "C(Speed)                              22.041667   1.0   31.117647   \n",
      "C(Carbonation):C(Pressure)             5.250000   2.0    3.705882   \n",
      "C(Carbonation):C(Speed)                0.583333   2.0    0.411765   \n",
      "C(Pressure):C(Speed)                   1.041667   1.0    1.470588   \n",
      "C(Carbonation):C(Pressure):C(Speed)    1.083333   2.0    0.764706   \n",
      "Residual                               8.500000  12.0         NaN   \n",
      "\n",
      "                                           PR(>F)  \n",
      "C(Carbonation)                       1.186249e-09  \n",
      "C(Pressure)                          3.742257e-06  \n",
      "C(Speed)                             1.202174e-04  \n",
      "C(Carbonation):C(Pressure)           5.580812e-02  \n",
      "C(Carbonation):C(Speed)              6.714939e-01  \n",
      "C(Pressure):C(Speed)                 2.485867e-01  \n",
      "C(Carbonation):C(Pressure):C(Speed)  4.868711e-01  \n",
      "Residual                                      NaN  \n"
     ]
    }
   ],
   "source": [
    "# main_effects = 'C(Carbonation) + C(Pressure) + C(Speed)'\n",
    "# double_effects = ' + C(Carbonation):C(Pressure) + C(Pressure):C(Speed) + C(Speed):C(Carbonation)'\n",
    "# triple_effects = ' + C(Carbonation):C(Pressure):C(Speed)'\n",
    "# formula = 'Fill_Dev ~ ' + main_effects + double_effects + triple_effects\n",
    "formula = 'Fill_Dev ~ C(Carbonation)*C(Pressure)*C(Speed)'\n",
    "\n",
    "model = ols(formula, data=df_dev).fit()\n",
    "aov_table = anova_lm(model, typ=2)\n",
    "print(aov_table)"
   ]
  },
  {
   "cell_type": "code",
   "execution_count": 17,
   "metadata": {},
   "outputs": [
    {
     "data": {
      "image/png": "[encoded data removed]",
      "text/plain": [
       "<matplotlib.figure.Figure at 0x7f4f737f9e48>"
      ]
     },
     "metadata": {},
     "output_type": "display_data"
    }
   ],
   "source": [
    "fig = interaction_plot(df_dev.Carbonation, df_dev.Pressure, df_dev.Fill_Dev)\n",
    "plt.show()"
   ]
  },
  {
   "cell_type": "code",
   "execution_count": 18,
   "metadata": {},
   "outputs": [
    {
     "data": {
      "text/plain": [
       "Speed\n",
       "200    2.166667\n",
       "250    4.083333\n",
       "Name: Fill_Dev, dtype: float64"
      ]
     },
     "execution_count": 18,
     "metadata": {},
     "output_type": "execute_result"
    }
   ],
   "source": [
    "df_dev.groupby('Speed').Fill_Dev.mean()"
   ]
  },
  {
   "cell_type": "code",
   "execution_count": 19,
   "metadata": {},
   "outputs": [
    {
     "data": {
      "text/plain": [
       "Pressure\n",
       "25    1.75\n",
       "30    4.50\n",
       "Name: Fill_Dev, dtype: float64"
      ]
     },
     "execution_count": 19,
     "metadata": {},
     "output_type": "execute_result"
    }
   ],
   "source": [
    "df_dev.groupby('Pressure').Fill_Dev.mean()"
   ]
  },
  {
   "cell_type": "markdown",
   "metadata": {},
   "source": [
    "# Response Curves"
   ]
  },
  {
   "cell_type": "code",
   "execution_count": 20,
   "metadata": {
    "collapsed": true
   },
   "outputs": [],
   "source": [
    "df_life.columns\n",
    "df_life['Temp2'] = df_life.Temp**2"
   ]
  },
  {
   "cell_type": "code",
   "execution_count": 21,
   "metadata": {},
   "outputs": [
    {
     "name": "stdout",
     "output_type": "stream",
     "text": [
      "                                sum_sq    df         F    PR(>F)\n",
      "C(Mat_Type)               10683.722222   2.0  7.911372  0.001976\n",
      "Temp                       1239.179404   1.0  1.835242  0.186738\n",
      "C(Mat_Type):Temp           7170.660365   2.0  5.309925  0.011357\n",
      "I(Temp ** 2)                 76.055556   1.0  0.112639  0.739753\n",
      "C(Mat_Type):I(Temp ** 2)   7298.694444   2.0  5.404735  0.010612\n",
      "Residual                  18230.750000  27.0       NaN       NaN\n"
     ]
    }
   ],
   "source": [
    "import math\n",
    "formula = 'Batt_Life ~ C(Mat_Type)*Temp+ C(Mat_Type)*I(Temp**2)'\n",
    "model = ols(formula, data=df_life).fit()\n",
    "aov_table = anova_lm(model, typ=2)\n",
    "print(aov_table)"
   ]
  },
  {
   "cell_type": "code",
   "execution_count": 22,
   "metadata": {},
   "outputs": [
    {
     "data": {
      "text/html": [
       "<table class=\"simpletable\">\n",
       "<caption>OLS Regression Results</caption>\n",
       "<tr>\n",
       "  <th>Dep. Variable:</th>        <td>Batt_Life</td>    <th>  R-squared:         </th> <td>   0.765</td>\n",
       "</tr>\n",
       "<tr>\n",
       "  <th>Model:</th>                   <td>OLS</td>       <th>  Adj. R-squared:    </th> <td>   0.696</td>\n",
       "</tr>\n",
       "<tr>\n",
       "  <th>Method:</th>             <td>Least Squares</td>  <th>  F-statistic:       </th> <td>   11.00</td>\n",
       "</tr>\n",
       "<tr>\n",
       "  <th>Date:</th>             <td>Fri, 03 Nov 2017</td> <th>  Prob (F-statistic):</th> <td>9.43e-07</td>\n",
       "</tr>\n",
       "<tr>\n",
       "  <th>Time:</th>                 <td>08:57:53</td>     <th>  Log-Likelihood:    </th> <td> -163.17</td>\n",
       "</tr>\n",
       "<tr>\n",
       "  <th>No. Observations:</th>      <td>    36</td>      <th>  AIC:               </th> <td>   344.3</td>\n",
       "</tr>\n",
       "<tr>\n",
       "  <th>Df Residuals:</th>          <td>    27</td>      <th>  BIC:               </th> <td>   358.6</td>\n",
       "</tr>\n",
       "<tr>\n",
       "  <th>Df Model:</th>              <td>     8</td>      <th>                     </th>     <td> </td>   \n",
       "</tr>\n",
       "<tr>\n",
       "  <th>Covariance Type:</th>      <td>nonrobust</td>    <th>                     </th>     <td> </td>   \n",
       "</tr>\n",
       "</table>\n",
       "<table class=\"simpletable\">\n",
       "<tr>\n",
       "                <td></td>                   <th>coef</th>     <th>std err</th>      <th>t</th>      <th>P>|t|</th>  <th>[0.025</th>    <th>0.975]</th>  \n",
       "</tr>\n",
       "<tr>\n",
       "  <th>Intercept</th>                     <td>  169.3802</td> <td>   20.568</td> <td>    8.235</td> <td> 0.000</td> <td>  127.179</td> <td>  211.582</td>\n",
       "</tr>\n",
       "<tr>\n",
       "  <th>C(Mat_Type)[T.2]</th>              <td>   -9.7562</td> <td>   29.087</td> <td>   -0.335</td> <td> 0.740</td> <td>  -69.438</td> <td>   49.926</td>\n",
       "</tr>\n",
       "<tr>\n",
       "  <th>C(Mat_Type)[T.3]</th>              <td>  -36.6178</td> <td>   29.087</td> <td>   -1.259</td> <td> 0.219</td> <td>  -96.299</td> <td>   23.064</td>\n",
       "</tr>\n",
       "<tr>\n",
       "  <th>Temp</th>                          <td>   -2.5014</td> <td>    0.755</td> <td>   -3.313</td> <td> 0.003</td> <td>   -4.051</td> <td>   -0.952</td>\n",
       "</tr>\n",
       "<tr>\n",
       "  <th>C(Mat_Type)[T.2]:Temp</th>         <td>    2.3281</td> <td>    1.068</td> <td>    2.180</td> <td> 0.038</td> <td>    0.137</td> <td>    4.519</td>\n",
       "</tr>\n",
       "<tr>\n",
       "  <th>C(Mat_Type)[T.3]:Temp</th>         <td>    3.4043</td> <td>    1.068</td> <td>    3.188</td> <td> 0.004</td> <td>    1.213</td> <td>    5.596</td>\n",
       "</tr>\n",
       "<tr>\n",
       "  <th>I(Temp ** 2)</th>                  <td>    0.0129</td> <td>    0.005</td> <td>    2.443</td> <td> 0.021</td> <td>    0.002</td> <td>    0.024</td>\n",
       "</tr>\n",
       "<tr>\n",
       "  <th>C(Mat_Type)[T.2]:I(Temp ** 2)</th> <td>   -0.0185</td> <td>    0.007</td> <td>   -2.488</td> <td> 0.019</td> <td>   -0.034</td> <td>   -0.003</td>\n",
       "</tr>\n",
       "<tr>\n",
       "  <th>C(Mat_Type)[T.3]:I(Temp ** 2)</th> <td>   -0.0231</td> <td>    0.007</td> <td>   -3.105</td> <td> 0.004</td> <td>   -0.038</td> <td>   -0.008</td>\n",
       "</tr>\n",
       "</table>\n",
       "<table class=\"simpletable\">\n",
       "<tr>\n",
       "  <th>Omnibus:</th>       <td> 1.609</td> <th>  Durbin-Watson:     </th> <td>   2.713</td>\n",
       "</tr>\n",
       "<tr>\n",
       "  <th>Prob(Omnibus):</th> <td> 0.447</td> <th>  Jarque-Bera (JB):  </th> <td>   1.192</td>\n",
       "</tr>\n",
       "<tr>\n",
       "  <th>Skew:</th>          <td>-0.444</td> <th>  Prob(JB):          </th> <td>   0.551</td>\n",
       "</tr>\n",
       "<tr>\n",
       "  <th>Kurtosis:</th>      <td> 2.922</td> <th>  Cond. No.          </th> <td>9.68e+04</td>\n",
       "</tr>\n",
       "</table>"
      ],
      "text/plain": [
       "<class 'statsmodels.iolib.summary.Summary'>\n",
       "\"\"\"\n",
       "                            OLS Regression Results                            \n",
       "==============================================================================\n",
       "Dep. Variable:              Batt_Life   R-squared:                       0.765\n",
       "Model:                            OLS   Adj. R-squared:                  0.696\n",
       "Method:                 Least Squares   F-statistic:                     11.00\n",
       "Date:                Fri, 03 Nov 2017   Prob (F-statistic):           9.43e-07\n",
       "Time:                        08:57:53   Log-Likelihood:                -163.17\n",
       "No. Observations:                  36   AIC:                             344.3\n",
       "Df Residuals:                      27   BIC:                             358.6\n",
       "Df Model:                           8                                         \n",
       "Covariance Type:            nonrobust                                         \n",
       "=================================================================================================\n",
       "                                    coef    std err          t      P>|t|      [0.025      0.975]\n",
       "-------------------------------------------------------------------------------------------------\n",
       "Intercept                       169.3802     20.568      8.235      0.000     127.179     211.582\n",
       "C(Mat_Type)[T.2]                 -9.7562     29.087     -0.335      0.740     -69.438      49.926\n",
       "C(Mat_Type)[T.3]                -36.6178     29.087     -1.259      0.219     -96.299      23.064\n",
       "Temp                             -2.5014      0.755     -3.313      0.003      -4.051      -0.952\n",
       "C(Mat_Type)[T.2]:Temp             2.3281      1.068      2.180      0.038       0.137       4.519\n",
       "C(Mat_Type)[T.3]:Temp             3.4043      1.068      3.188      0.004       1.213       5.596\n",
       "I(Temp ** 2)                      0.0129      0.005      2.443      0.021       0.002       0.024\n",
       "C(Mat_Type)[T.2]:I(Temp ** 2)    -0.0185      0.007     -2.488      0.019      -0.034      -0.003\n",
       "C(Mat_Type)[T.3]:I(Temp ** 2)    -0.0231      0.007     -3.105      0.004      -0.038      -0.008\n",
       "==============================================================================\n",
       "Omnibus:                        1.609   Durbin-Watson:                   2.713\n",
       "Prob(Omnibus):                  0.447   Jarque-Bera (JB):                1.192\n",
       "Skew:                          -0.444   Prob(JB):                        0.551\n",
       "Kurtosis:                       2.922   Cond. No.                     9.68e+04\n",
       "==============================================================================\n",
       "\n",
       "Warnings:\n",
       "[1] Standard Errors assume that the covariance matrix of the errors is correctly specified.\n",
       "[2] The condition number is large, 9.68e+04. This might indicate that there are\n",
       "strong multicollinearity or other numerical problems.\n",
       "\"\"\""
      ]
     },
     "execution_count": 22,
     "metadata": {},
     "output_type": "execute_result"
    }
   ],
   "source": [
    "model.summary()"
   ]
  },
  {
   "cell_type": "code",
   "execution_count": 23,
   "metadata": {},
   "outputs": [
    {
     "data": {
      "image/png": "[encoded data removed]",
      "text/plain": [
       "<matplotlib.figure.Figure at 0x7f4f72e98048>"
      ]
     },
     "metadata": {},
     "output_type": "display_data"
    }
   ],
   "source": [
    "df_life.plot.scatter('Temp', 'Batt_Life')\n",
    "plt.show()"
   ]
  },
  {
   "cell_type": "code",
   "execution_count": 24,
   "metadata": {},
   "outputs": [
    {
     "data": {
      "image/png": "[encoded data removed]",
      "text/plain": [
       "<matplotlib.figure.Figure at 0x7f4f7e4defd0>"
      ]
     },
     "metadata": {},
     "output_type": "display_data"
    }
   ],
   "source": [
    "import numpy as np\n",
    "x = np.arange(15, 125, .1)\n",
    "y_1 = [(lambda a: 169.2803 - 2.5014*a + .0129*(a**2))(a) for a in x]\n",
    "y_2 = [(lambda a: 169.2803  -9.7562 - 2.5014*a + 2.3281*a + .0129*(a**2) - .0185*(a**2))(a) for a in x]\n",
    "y_3 = [(lambda a: 169.2803  -36.6178 - 2.5014*a + 3.4043*a + .0129*(a**2) - 0.0231*(a**2))(a) for a in x]\n",
    "\n",
    "fig = plt.figure()\n",
    "ax1 = fig.add_subplot(111)\n",
    "\n",
    "ax1.plot(x, y_1, 'r')\n",
    "ax1.plot(x, y_2, 'g')\n",
    "ax1.plot(x, y_3, 'y')\n",
    "df_life.plot.scatter('Temp', 'Batt_Life', ax=ax1)\n",
    "plt.show()"
   ]
  },
  {
   "cell_type": "markdown",
   "metadata": {},
   "source": [
    "# Problem 5.9"
   ]
  },
  {
   "cell_type": "code",
   "execution_count": 27,
   "metadata": {},
   "outputs": [
    {
     "data": {
      "text/html": [
       "<div>\n",
       "<style>\n",
       "    .dataframe thead tr:only-child th {\n",
       "        text-align: right;\n",
       "    }\n",
       "\n",
       "    .dataframe thead th {\n",
       "        text-align: left;\n",
       "    }\n",
       "\n",
       "    .dataframe tbody tr th {\n",
       "        vertical-align: top;\n",
       "    }\n",
       "</style>\n",
       "<table border=\"1\" class=\"dataframe\">\n",
       "  <thead>\n",
       "    <tr style=\"text-align: right;\">\n",
       "      <th></th>\n",
       "      <th>Feed</th>\n",
       "      <th>Force</th>\n",
       "      <th>Speed</th>\n",
       "    </tr>\n",
       "  </thead>\n",
       "  <tbody>\n",
       "    <tr>\n",
       "      <th>0</th>\n",
       "      <td>0.015</td>\n",
       "      <td>2.70</td>\n",
       "      <td>125</td>\n",
       "    </tr>\n",
       "    <tr>\n",
       "      <th>1</th>\n",
       "      <td>0.015</td>\n",
       "      <td>2.78</td>\n",
       "      <td>125</td>\n",
       "    </tr>\n",
       "    <tr>\n",
       "      <th>2</th>\n",
       "      <td>0.015</td>\n",
       "      <td>2.83</td>\n",
       "      <td>200</td>\n",
       "    </tr>\n",
       "    <tr>\n",
       "      <th>3</th>\n",
       "      <td>0.015</td>\n",
       "      <td>2.86</td>\n",
       "      <td>200</td>\n",
       "    </tr>\n",
       "    <tr>\n",
       "      <th>4</th>\n",
       "      <td>0.030</td>\n",
       "      <td>2.45</td>\n",
       "      <td>125</td>\n",
       "    </tr>\n",
       "  </tbody>\n",
       "</table>\n",
       "</div>"
      ],
      "text/plain": [
       "    Feed  Force  Speed\n",
       "0  0.015   2.70    125\n",
       "1  0.015   2.78    125\n",
       "2  0.015   2.83    200\n",
       "3  0.015   2.86    200\n",
       "4  0.030   2.45    125"
      ]
     },
     "execution_count": 27,
     "metadata": {},
     "output_type": "execute_result"
    }
   ],
   "source": [
    "force_data = [2.7, 2.78, 2.83, 2.86, 2.45, 2.49, 2.85, 2.8, 2.6, 2.72, 2.86, 2.87, 2.75, 2.86, 2.94, 2.88]\n",
    "speed_data = [125, 125, 200, 200]*4\n",
    "feed_data = [.015]*4 + [.03]*4 + [.045]*4 + [.06]*4\n",
    "\n",
    "df_drill = pd.DataFrame({'Force': force_data, 'Speed': speed_data, 'Feed': feed_data})\n",
    "df_drill.head()\n"
   ]
  },
  {
   "cell_type": "code",
   "execution_count": 31,
   "metadata": {},
   "outputs": [
    {
     "data": {
      "image/png": "[encoded data removed]",
      "text/plain": [
       "<matplotlib.figure.Figure at 0x7f4f738a4588>"
      ]
     },
     "metadata": {},
     "output_type": "display_data"
    }
   ],
   "source": [
    "fig = interaction_plot(df_drill.Feed, df_drill.Speed, df_drill.Force)\n",
    "plt.show()"
   ]
  },
  {
   "cell_type": "code",
   "execution_count": 35,
   "metadata": {},
   "outputs": [
    {
     "name": "stdout",
     "output_type": "stream",
     "text": [
      "                    sum_sq   df          F    PR(>F)\n",
      "C(Feed)           0.092500  3.0  11.858974  0.002582\n",
      "C(Speed)          0.148225  1.0  57.009615  0.000066\n",
      "C(Feed):C(Speed)  0.041875  3.0   5.368590  0.025567\n",
      "Residual          0.020800  8.0        NaN       NaN\n"
     ]
    }
   ],
   "source": [
    "formula = 'Force ~ C(Feed)*C(Speed)'\n",
    "model = ols(formula, df_drill).fit()\n",
    "aov_table = anova_lm(model, typ=2)\n",
    "print(aov_table)"
   ]
  },
  {
   "cell_type": "markdown",
   "metadata": {},
   "source": [
    "All factors appear to be significant in affecting the thrust force.\n",
    "At high drill speed, there is 3.5x less variance than at low speed."
   ]
  },
  {
   "cell_type": "code",
   "execution_count": 45,
   "metadata": {},
   "outputs": [
    {
     "data": {
      "text/html": [
       "<div>\n",
       "<style>\n",
       "    .dataframe thead tr:only-child th {\n",
       "        text-align: right;\n",
       "    }\n",
       "\n",
       "    .dataframe thead th {\n",
       "        text-align: left;\n",
       "    }\n",
       "\n",
       "    .dataframe tbody tr th {\n",
       "        vertical-align: top;\n",
       "    }\n",
       "</style>\n",
       "<table border=\"1\" class=\"dataframe\">\n",
       "  <thead>\n",
       "    <tr style=\"text-align: right;\">\n",
       "      <th></th>\n",
       "      <th>count</th>\n",
       "      <th>mean</th>\n",
       "      <th>std</th>\n",
       "      <th>min</th>\n",
       "      <th>25%</th>\n",
       "      <th>50%</th>\n",
       "      <th>75%</th>\n",
       "      <th>max</th>\n",
       "    </tr>\n",
       "    <tr>\n",
       "      <th>Speed</th>\n",
       "      <th></th>\n",
       "      <th></th>\n",
       "      <th></th>\n",
       "      <th></th>\n",
       "      <th></th>\n",
       "      <th></th>\n",
       "      <th></th>\n",
       "      <th></th>\n",
       "    </tr>\n",
       "  </thead>\n",
       "  <tbody>\n",
       "    <tr>\n",
       "      <th>125</th>\n",
       "      <td>16.0</td>\n",
       "      <td>5.3375</td>\n",
       "      <td>0.286543</td>\n",
       "      <td>4.9</td>\n",
       "      <td>5.145</td>\n",
       "      <td>5.42</td>\n",
       "      <td>5.515</td>\n",
       "      <td>5.72</td>\n",
       "    </tr>\n",
       "    <tr>\n",
       "      <th>200</th>\n",
       "      <td>16.0</td>\n",
       "      <td>5.7225</td>\n",
       "      <td>0.081020</td>\n",
       "      <td>5.6</td>\n",
       "      <td>5.690</td>\n",
       "      <td>5.72</td>\n",
       "      <td>5.745</td>\n",
       "      <td>5.88</td>\n",
       "    </tr>\n",
       "  </tbody>\n",
       "</table>\n",
       "</div>"
      ],
      "text/plain": [
       "       count    mean       std  min    25%   50%    75%   max\n",
       "Speed                                                        \n",
       "125     16.0  5.3375  0.286543  4.9  5.145  5.42  5.515  5.72\n",
       "200     16.0  5.7225  0.081020  5.6  5.690  5.72  5.745  5.88"
      ]
     },
     "execution_count": 45,
     "metadata": {},
     "output_type": "execute_result"
    }
   ],
   "source": [
    "df_drill.groupby('Speed').describe().Force*2"
   ]
  },
  {
   "cell_type": "code",
   "execution_count": 49,
   "metadata": {},
   "outputs": [
    {
     "name": "stdout",
     "output_type": "stream",
     "text": [
      "            sum_sq   df         F    PR(>F)\n",
      "C(Feed)   0.007938  3.0  2.981221  0.159391\n",
      "Residual  0.003550  4.0       NaN       NaN\n"
     ]
    }
   ],
   "source": [
    "# df_drill[df_drill.Speed == 200]\n",
    "formula = 'Force ~ C(Feed)'\n",
    "model = ols(formula, df_drill[df_drill.Speed == 200]).fit()\n",
    "aov_table = anova_lm(model, typ=2)\n",
    "print(aov_table)"
   ]
  },
  {
   "cell_type": "markdown",
   "metadata": {},
   "source": [
    "Feed has no significant impact at high drill speeds, only at low drill speed."
   ]
  },
  {
   "cell_type": "markdown",
   "metadata": {},
   "source": [
    "# Problem 5.25"
   ]
  },
  {
   "cell_type": "code",
   "execution_count": 86,
   "metadata": {},
   "outputs": [
    {
     "data": {
      "text/html": [
       "<div>\n",
       "<style>\n",
       "    .dataframe thead tr:only-child th {\n",
       "        text-align: right;\n",
       "    }\n",
       "\n",
       "    .dataframe thead th {\n",
       "        text-align: left;\n",
       "    }\n",
       "\n",
       "    .dataframe tbody tr th {\n",
       "        vertical-align: top;\n",
       "    }\n",
       "</style>\n",
       "<table border=\"1\" class=\"dataframe\">\n",
       "  <thead>\n",
       "    <tr style=\"text-align: right;\">\n",
       "      <th></th>\n",
       "      <th>Current</th>\n",
       "      <th>Doping</th>\n",
       "      <th>Temp</th>\n",
       "    </tr>\n",
       "  </thead>\n",
       "  <tbody>\n",
       "    <tr>\n",
       "      <th>0</th>\n",
       "      <td>4.60</td>\n",
       "      <td>1.000000e+20</td>\n",
       "      <td>900</td>\n",
       "    </tr>\n",
       "    <tr>\n",
       "      <th>1</th>\n",
       "      <td>4.40</td>\n",
       "      <td>1.000000e+20</td>\n",
       "      <td>900</td>\n",
       "    </tr>\n",
       "    <tr>\n",
       "      <th>2</th>\n",
       "      <td>3.20</td>\n",
       "      <td>2.000000e+20</td>\n",
       "      <td>900</td>\n",
       "    </tr>\n",
       "    <tr>\n",
       "      <th>3</th>\n",
       "      <td>3.50</td>\n",
       "      <td>2.000000e+20</td>\n",
       "      <td>900</td>\n",
       "    </tr>\n",
       "    <tr>\n",
       "      <th>4</th>\n",
       "      <td>10.15</td>\n",
       "      <td>1.000000e+20</td>\n",
       "      <td>950</td>\n",
       "    </tr>\n",
       "  </tbody>\n",
       "</table>\n",
       "</div>"
      ],
      "text/plain": [
       "   Current        Doping  Temp\n",
       "0     4.60  1.000000e+20   900\n",
       "1     4.40  1.000000e+20   900\n",
       "2     3.20  2.000000e+20   900\n",
       "3     3.50  2.000000e+20   900\n",
       "4    10.15  1.000000e+20   950"
      ]
     },
     "execution_count": 86,
     "metadata": {},
     "output_type": "execute_result"
    }
   ],
   "source": [
    "current_data = [4.6, 4.4, 3.2, 3.5, 10.15, 10.2, 9.38, 10.02, 11.01, 10.58, 10.81, 10.6]\n",
    "doping_data = [1e20, 1e20, 2e20, 2e20]*3\n",
    "temp_data = [900]*4 + [950]*4 + [1000]*4\n",
    "\n",
    "df_doping = pd.DataFrame({'Current': current_data, 'Doping': doping_data, 'Temp': temp_data})\n",
    "df_doping.head()"
   ]
  },
  {
   "cell_type": "code",
   "execution_count": 87,
   "metadata": {},
   "outputs": [
    {
     "name": "stdout",
     "output_type": "stream",
     "text": [
      "                       sum_sq   df           F        PR(>F)\n",
      "C(Doping)            0.980408  1.0   15.257295  7.928350e-03\n",
      "C(Temp)            111.187917  2.0  865.163403  4.126286e-08\n",
      "C(Doping):C(Temp)    0.575817  2.0    4.480482  6.450226e-02\n",
      "Residual             0.385550  6.0         NaN           NaN\n"
     ]
    }
   ],
   "source": [
    "formula = 'Current ~ C(Doping)*C(Temp)'\n",
    "model = ols(formula, df_doping).fit()\n",
    "aov_table = anova_lm(model, typ=2)\n",
    "print(aov_table)"
   ]
  },
  {
   "cell_type": "code",
   "execution_count": 95,
   "metadata": {},
   "outputs": [
    {
     "name": "stderr",
     "output_type": "stream",
     "text": [
      "/home/shlapo/.anaconda3/lib/python3.6/site-packages/scipy/stats/stats.py:1334: UserWarning: kurtosistest only valid for n>=20 ... continuing anyway, n=12\n",
      "  \"anyway, n=%i\" % int(n))\n"
     ]
    },
    {
     "data": {
      "text/html": [
       "<table class=\"simpletable\">\n",
       "<caption>OLS Regression Results</caption>\n",
       "<tr>\n",
       "  <th>Dep. Variable:</th>         <td>Current</td>     <th>  R-squared:         </th> <td>   0.997</td>\n",
       "</tr>\n",
       "<tr>\n",
       "  <th>Model:</th>                   <td>OLS</td>       <th>  Adj. R-squared:    </th> <td>   0.994</td>\n",
       "</tr>\n",
       "<tr>\n",
       "  <th>Method:</th>             <td>Least Squares</td>  <th>  F-statistic:       </th> <td>   350.9</td>\n",
       "</tr>\n",
       "<tr>\n",
       "  <th>Date:</th>             <td>Fri, 03 Nov 2017</td> <th>  Prob (F-statistic):</th> <td>2.59e-07</td>\n",
       "</tr>\n",
       "<tr>\n",
       "  <th>Time:</th>                 <td>09:51:50</td>     <th>  Log-Likelihood:    </th> <td>  3.6007</td>\n",
       "</tr>\n",
       "<tr>\n",
       "  <th>No. Observations:</th>      <td>    12</td>      <th>  AIC:               </th> <td>   4.799</td>\n",
       "</tr>\n",
       "<tr>\n",
       "  <th>Df Residuals:</th>          <td>     6</td>      <th>  BIC:               </th> <td>   7.708</td>\n",
       "</tr>\n",
       "<tr>\n",
       "  <th>Df Model:</th>              <td>     5</td>      <th>                     </th>     <td> </td>   \n",
       "</tr>\n",
       "<tr>\n",
       "  <th>Covariance Type:</th>      <td>nonrobust</td>    <th>                     </th>     <td> </td>   \n",
       "</tr>\n",
       "</table>\n",
       "<table class=\"simpletable\">\n",
       "<tr>\n",
       "                 <td></td>                    <th>coef</th>     <th>std err</th>      <th>t</th>      <th>P>|t|</th>  <th>[0.025</th>    <th>0.975]</th>  \n",
       "</tr>\n",
       "<tr>\n",
       "  <th>Intercept</th>                       <td> -962.0550</td> <td>   79.141</td> <td>  -12.156</td> <td> 0.000</td> <td>-1155.706</td> <td> -768.404</td>\n",
       "</tr>\n",
       "<tr>\n",
       "  <th>C(Doping)[T.2e+20]</th>              <td>  -62.8900</td> <td>  111.922</td> <td>   -0.562</td> <td> 0.595</td> <td> -336.754</td> <td>  210.974</td>\n",
       "</tr>\n",
       "<tr>\n",
       "  <th>Temp</th>                            <td>    1.9839</td> <td>    0.167</td> <td>   11.889</td> <td> 0.000</td> <td>    1.576</td> <td>    2.392</td>\n",
       "</tr>\n",
       "<tr>\n",
       "  <th>C(Doping)[T.2e+20]:Temp</th>         <td>    0.1208</td> <td>    0.236</td> <td>    0.512</td> <td> 0.627</td> <td>   -0.457</td> <td>    0.698</td>\n",
       "</tr>\n",
       "<tr>\n",
       "  <th>I(Temp ** 2)</th>                    <td>   -0.0010</td> <td> 8.78e-05</td> <td>  -11.513</td> <td> 0.000</td> <td>   -0.001</td> <td>   -0.001</td>\n",
       "</tr>\n",
       "<tr>\n",
       "  <th>C(Doping)[T.2e+20]:I(Temp ** 2)</th> <td>  -5.8e-05</td> <td>    0.000</td> <td>   -0.467</td> <td> 0.657</td> <td>   -0.000</td> <td>    0.000</td>\n",
       "</tr>\n",
       "</table>\n",
       "<table class=\"simpletable\">\n",
       "<tr>\n",
       "  <th>Omnibus:</th>       <td> 0.148</td> <th>  Durbin-Watson:     </th> <td>   2.689</td>\n",
       "</tr>\n",
       "<tr>\n",
       "  <th>Prob(Omnibus):</th> <td> 0.929</td> <th>  Jarque-Bera (JB):  </th> <td>   0.357</td>\n",
       "</tr>\n",
       "<tr>\n",
       "  <th>Skew:</th>          <td>-0.000</td> <th>  Prob(JB):          </th> <td>   0.837</td>\n",
       "</tr>\n",
       "<tr>\n",
       "  <th>Kurtosis:</th>      <td> 2.156</td> <th>  Cond. No.          </th> <td>1.82e+09</td>\n",
       "</tr>\n",
       "</table>"
      ],
      "text/plain": [
       "<class 'statsmodels.iolib.summary.Summary'>\n",
       "\"\"\"\n",
       "                            OLS Regression Results                            \n",
       "==============================================================================\n",
       "Dep. Variable:                Current   R-squared:                       0.997\n",
       "Model:                            OLS   Adj. R-squared:                  0.994\n",
       "Method:                 Least Squares   F-statistic:                     350.9\n",
       "Date:                Fri, 03 Nov 2017   Prob (F-statistic):           2.59e-07\n",
       "Time:                        09:51:50   Log-Likelihood:                 3.6007\n",
       "No. Observations:                  12   AIC:                             4.799\n",
       "Df Residuals:                       6   BIC:                             7.708\n",
       "Df Model:                           5                                         \n",
       "Covariance Type:            nonrobust                                         \n",
       "===================================================================================================\n",
       "                                      coef    std err          t      P>|t|      [0.025      0.975]\n",
       "---------------------------------------------------------------------------------------------------\n",
       "Intercept                        -962.0550     79.141    -12.156      0.000   -1155.706    -768.404\n",
       "C(Doping)[T.2e+20]                -62.8900    111.922     -0.562      0.595    -336.754     210.974\n",
       "Temp                                1.9839      0.167     11.889      0.000       1.576       2.392\n",
       "C(Doping)[T.2e+20]:Temp             0.1208      0.236      0.512      0.627      -0.457       0.698\n",
       "I(Temp ** 2)                       -0.0010   8.78e-05    -11.513      0.000      -0.001      -0.001\n",
       "C(Doping)[T.2e+20]:I(Temp ** 2)   -5.8e-05      0.000     -0.467      0.657      -0.000       0.000\n",
       "==============================================================================\n",
       "Omnibus:                        0.148   Durbin-Watson:                   2.689\n",
       "Prob(Omnibus):                  0.929   Jarque-Bera (JB):                0.357\n",
       "Skew:                          -0.000   Prob(JB):                        0.837\n",
       "Kurtosis:                       2.156   Cond. No.                     1.82e+09\n",
       "==============================================================================\n",
       "\n",
       "Warnings:\n",
       "[1] Standard Errors assume that the covariance matrix of the errors is correctly specified.\n",
       "[2] The condition number is large, 1.82e+09. This might indicate that there are\n",
       "strong multicollinearity or other numerical problems.\n",
       "\"\"\""
      ]
     },
     "execution_count": 95,
     "metadata": {},
     "output_type": "execute_result"
    }
   ],
   "source": [
    "model.summary()"
   ]
  },
  {
   "cell_type": "code",
   "execution_count": 89,
   "metadata": {},
   "outputs": [
    {
     "data": {
      "image/png": "[encoded data removed]",
      "text/plain": [
       "<matplotlib.figure.Figure at 0x7f4f7043cf28>"
      ]
     },
     "metadata": {},
     "output_type": "display_data"
    }
   ],
   "source": [
    "fig = plt.figure()\n",
    "ax1 = fig.add_subplot(111)\n",
    "\n",
    "interaction_plot(df_doping.Temp, df_doping.Doping, df_doping.Current, ax=ax1)\n",
    "df_doping.plot.scatter('Temp', 'Current', ax=ax1)\n",
    "plt.show()"
   ]
  },
  {
   "cell_type": "code",
   "execution_count": 90,
   "metadata": {},
   "outputs": [
    {
     "name": "stdout",
     "output_type": "stream",
     "text": [
      "                           sum_sq   df           F    PR(>F)\n",
      "C(Doping)                0.980408  1.0   15.257292  0.007928\n",
      "Temp                    19.288983  1.0  300.178693  0.000002\n",
      "C(Doping):Temp           0.016839  1.0    0.262051  0.627004\n",
      "I(Temp ** 2)            18.026667  1.0  280.534302  0.000003\n",
      "C(Doping):I(Temp ** 2)   0.014017  1.0    0.218130  0.656947\n",
      "Residual                 0.385550  6.0         NaN       NaN\n"
     ]
    }
   ],
   "source": [
    "formula = 'Current ~ C(Doping)*Temp + C(Doping)*I(Temp**2)'\n",
    "model = ols(formula, df_doping).fit()\n",
    "aov_table = anova_lm(model, typ=2)\n",
    "print(aov_table)"
   ]
  },
  {
   "cell_type": "code",
   "execution_count": 91,
   "metadata": {},
   "outputs": [
    {
     "name": "stderr",
     "output_type": "stream",
     "text": [
      "/home/shlapo/.anaconda3/lib/python3.6/site-packages/scipy/stats/stats.py:1334: UserWarning: kurtosistest only valid for n>=20 ... continuing anyway, n=12\n",
      "  \"anyway, n=%i\" % int(n))\n"
     ]
    },
    {
     "data": {
      "text/html": [
       "<table class=\"simpletable\">\n",
       "<caption>OLS Regression Results</caption>\n",
       "<tr>\n",
       "  <th>Dep. Variable:</th>         <td>Current</td>     <th>  R-squared:         </th> <td>   0.997</td>\n",
       "</tr>\n",
       "<tr>\n",
       "  <th>Model:</th>                   <td>OLS</td>       <th>  Adj. R-squared:    </th> <td>   0.994</td>\n",
       "</tr>\n",
       "<tr>\n",
       "  <th>Method:</th>             <td>Least Squares</td>  <th>  F-statistic:       </th> <td>   350.9</td>\n",
       "</tr>\n",
       "<tr>\n",
       "  <th>Date:</th>             <td>Fri, 03 Nov 2017</td> <th>  Prob (F-statistic):</th> <td>2.59e-07</td>\n",
       "</tr>\n",
       "<tr>\n",
       "  <th>Time:</th>                 <td>09:51:10</td>     <th>  Log-Likelihood:    </th> <td>  3.6007</td>\n",
       "</tr>\n",
       "<tr>\n",
       "  <th>No. Observations:</th>      <td>    12</td>      <th>  AIC:               </th> <td>   4.799</td>\n",
       "</tr>\n",
       "<tr>\n",
       "  <th>Df Residuals:</th>          <td>     6</td>      <th>  BIC:               </th> <td>   7.708</td>\n",
       "</tr>\n",
       "<tr>\n",
       "  <th>Df Model:</th>              <td>     5</td>      <th>                     </th>     <td> </td>   \n",
       "</tr>\n",
       "<tr>\n",
       "  <th>Covariance Type:</th>      <td>nonrobust</td>    <th>                     </th>     <td> </td>   \n",
       "</tr>\n",
       "</table>\n",
       "<table class=\"simpletable\">\n",
       "<tr>\n",
       "                 <td></td>                    <th>coef</th>     <th>std err</th>      <th>t</th>      <th>P>|t|</th>  <th>[0.025</th>    <th>0.975]</th>  \n",
       "</tr>\n",
       "<tr>\n",
       "  <th>Intercept</th>                       <td> -962.0550</td> <td>   79.141</td> <td>  -12.156</td> <td> 0.000</td> <td>-1155.706</td> <td> -768.404</td>\n",
       "</tr>\n",
       "<tr>\n",
       "  <th>C(Doping)[T.2e+20]</th>              <td>  -62.8900</td> <td>  111.922</td> <td>   -0.562</td> <td> 0.595</td> <td> -336.754</td> <td>  210.974</td>\n",
       "</tr>\n",
       "<tr>\n",
       "  <th>Temp</th>                            <td>    1.9839</td> <td>    0.167</td> <td>   11.889</td> <td> 0.000</td> <td>    1.576</td> <td>    2.392</td>\n",
       "</tr>\n",
       "<tr>\n",
       "  <th>C(Doping)[T.2e+20]:Temp</th>         <td>    0.1208</td> <td>    0.236</td> <td>    0.512</td> <td> 0.627</td> <td>   -0.457</td> <td>    0.698</td>\n",
       "</tr>\n",
       "<tr>\n",
       "  <th>I(Temp ** 2)</th>                    <td>   -0.0010</td> <td> 8.78e-05</td> <td>  -11.513</td> <td> 0.000</td> <td>   -0.001</td> <td>   -0.001</td>\n",
       "</tr>\n",
       "<tr>\n",
       "  <th>C(Doping)[T.2e+20]:I(Temp ** 2)</th> <td>  -5.8e-05</td> <td>    0.000</td> <td>   -0.467</td> <td> 0.657</td> <td>   -0.000</td> <td>    0.000</td>\n",
       "</tr>\n",
       "</table>\n",
       "<table class=\"simpletable\">\n",
       "<tr>\n",
       "  <th>Omnibus:</th>       <td> 0.148</td> <th>  Durbin-Watson:     </th> <td>   2.689</td>\n",
       "</tr>\n",
       "<tr>\n",
       "  <th>Prob(Omnibus):</th> <td> 0.929</td> <th>  Jarque-Bera (JB):  </th> <td>   0.357</td>\n",
       "</tr>\n",
       "<tr>\n",
       "  <th>Skew:</th>          <td>-0.000</td> <th>  Prob(JB):          </th> <td>   0.837</td>\n",
       "</tr>\n",
       "<tr>\n",
       "  <th>Kurtosis:</th>      <td> 2.156</td> <th>  Cond. No.          </th> <td>1.82e+09</td>\n",
       "</tr>\n",
       "</table>"
      ],
      "text/plain": [
       "<class 'statsmodels.iolib.summary.Summary'>\n",
       "\"\"\"\n",
       "                            OLS Regression Results                            \n",
       "==============================================================================\n",
       "Dep. Variable:                Current   R-squared:                       0.997\n",
       "Model:                            OLS   Adj. R-squared:                  0.994\n",
       "Method:                 Least Squares   F-statistic:                     350.9\n",
       "Date:                Fri, 03 Nov 2017   Prob (F-statistic):           2.59e-07\n",
       "Time:                        09:51:10   Log-Likelihood:                 3.6007\n",
       "No. Observations:                  12   AIC:                             4.799\n",
       "Df Residuals:                       6   BIC:                             7.708\n",
       "Df Model:                           5                                         \n",
       "Covariance Type:            nonrobust                                         \n",
       "===================================================================================================\n",
       "                                      coef    std err          t      P>|t|      [0.025      0.975]\n",
       "---------------------------------------------------------------------------------------------------\n",
       "Intercept                        -962.0550     79.141    -12.156      0.000   -1155.706    -768.404\n",
       "C(Doping)[T.2e+20]                -62.8900    111.922     -0.562      0.595    -336.754     210.974\n",
       "Temp                                1.9839      0.167     11.889      0.000       1.576       2.392\n",
       "C(Doping)[T.2e+20]:Temp             0.1208      0.236      0.512      0.627      -0.457       0.698\n",
       "I(Temp ** 2)                       -0.0010   8.78e-05    -11.513      0.000      -0.001      -0.001\n",
       "C(Doping)[T.2e+20]:I(Temp ** 2)   -5.8e-05      0.000     -0.467      0.657      -0.000       0.000\n",
       "==============================================================================\n",
       "Omnibus:                        0.148   Durbin-Watson:                   2.689\n",
       "Prob(Omnibus):                  0.929   Jarque-Bera (JB):                0.357\n",
       "Skew:                          -0.000   Prob(JB):                        0.837\n",
       "Kurtosis:                       2.156   Cond. No.                     1.82e+09\n",
       "==============================================================================\n",
       "\n",
       "Warnings:\n",
       "[1] Standard Errors assume that the covariance matrix of the errors is correctly specified.\n",
       "[2] The condition number is large, 1.82e+09. This might indicate that there are\n",
       "strong multicollinearity or other numerical problems.\n",
       "\"\"\""
      ]
     },
     "execution_count": 91,
     "metadata": {},
     "output_type": "execute_result"
    }
   ],
   "source": [
    "model.summary()"
   ]
  },
  {
   "cell_type": "code",
   "execution_count": 101,
   "metadata": {},
   "outputs": [
    {
     "data": {
      "image/png": "[encoded data removed]",
      "text/plain": [
       "<matplotlib.figure.Figure at 0x7f4f702fad68>"
      ]
     },
     "metadata": {},
     "output_type": "display_data"
    }
   ],
   "source": [
    "resid = model.resid\n",
    "fig = qqplot(resid, line='s')\n",
    "plt.show()"
   ]
  },
  {
   "cell_type": "code",
   "execution_count": 102,
   "metadata": {},
   "outputs": [
    {
     "data": {
      "image/png": "[encoded data removed]",
      "text/plain": [
       "<matplotlib.figure.Figure at 0x7f4f705e0c18>"
      ]
     },
     "metadata": {},
     "output_type": "display_data"
    }
   ],
   "source": [
    "import statsmodels.api as sm\n",
    "fig = plt.figure(figsize=(12,8))\n",
    "fig = sm.graphics.plot_regress_exog(model, \"Temp\", fig=fig)\n",
    "plt.show()"
   ]
  },
  {
   "cell_type": "code",
   "execution_count": null,
   "metadata": {
    "collapsed": true
   },
   "outputs": [],
   "source": []
  }
 ],
 "metadata": {
  "kernelspec": {
   "display_name": "Python 3",
   "language": "python",
   "name": "python3"
  },
  "language_info": {
   "codemirror_mode": {
    "name": "ipython",
    "version": 3
   },
   "file_extension": ".py",
   "mimetype": "text/x-python",
   "name": "python",
   "nbconvert_exporter": "python",
   "pygments_lexer": "ipython3",
   "version": "3.6.1"
  }
 },
 "nbformat": 4,
 "nbformat_minor": 2
}
