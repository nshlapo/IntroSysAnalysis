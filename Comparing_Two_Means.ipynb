{
 "cells": [
  {
   "cell_type": "markdown",
   "metadata": {},
   "source": [
    "## Comparing Two Means\n",
    "Two different types of different groups:\n",
    "- different groups of people w/ different experimental manipulations\n",
    "- same group of people w/ different experimental manipulations at different times\n",
    "- DON'T use a median split - turn a continuous variable into a categorical one.\n"
   ]
  },
  {
   "cell_type": "code",
   "execution_count": 2,
   "metadata": {},
   "outputs": [
    {
     "data": {
      "text/html": [
       "<div>\n",
       "<style>\n",
       "    .dataframe thead tr:only-child th {\n",
       "        text-align: right;\n",
       "    }\n",
       "\n",
       "    .dataframe thead th {\n",
       "        text-align: left;\n",
       "    }\n",
       "\n",
       "    .dataframe tbody tr th {\n",
       "        vertical-align: top;\n",
       "    }\n",
       "</style>\n",
       "<table border=\"1\" class=\"dataframe\">\n",
       "  <thead>\n",
       "    <tr style=\"text-align: right;\">\n",
       "      <th></th>\n",
       "      <th>Group</th>\n",
       "      <th>Anxiety</th>\n",
       "    </tr>\n",
       "  </thead>\n",
       "  <tbody>\n",
       "    <tr>\n",
       "      <th>0</th>\n",
       "      <td>Picture</td>\n",
       "      <td>30</td>\n",
       "    </tr>\n",
       "    <tr>\n",
       "      <th>1</th>\n",
       "      <td>Picture</td>\n",
       "      <td>35</td>\n",
       "    </tr>\n",
       "    <tr>\n",
       "      <th>2</th>\n",
       "      <td>Picture</td>\n",
       "      <td>45</td>\n",
       "    </tr>\n",
       "    <tr>\n",
       "      <th>3</th>\n",
       "      <td>Picture</td>\n",
       "      <td>40</td>\n",
       "    </tr>\n",
       "    <tr>\n",
       "      <th>4</th>\n",
       "      <td>Picture</td>\n",
       "      <td>50</td>\n",
       "    </tr>\n",
       "  </tbody>\n",
       "</table>\n",
       "</div>"
      ],
      "text/plain": [
       "     Group  Anxiety\n",
       "0  Picture       30\n",
       "1  Picture       35\n",
       "2  Picture       45\n",
       "3  Picture       40\n",
       "4  Picture       50"
      ]
     },
     "execution_count": 2,
     "metadata": {},
     "output_type": "execute_result"
    }
   ],
   "source": [
    "import pandas as pd\n",
    "import matplotlib.pyplot as plt\n",
    "import seaborn as sns\n",
    "\n",
    "data = pd.read_csv('./spiderLong.dat', delim_whitespace=True)\n",
    "data_rm = pd.read_csv('./spiderWide.dat', delim_whitespace=True)\n",
    "\n",
    "data.head()"
   ]
  },
  {
   "cell_type": "markdown",
   "metadata": {},
   "source": [
    "#### Problem with repeated-measures error bars"
   ]
  },
  {
   "cell_type": "code",
   "execution_count": 3,
   "metadata": {},
   "outputs": [
    {
     "data": {
      "image/png": "[encoded data removed]",
      "text/plain": [
       "<matplotlib.figure.Figure at 0x7f8f26d3ba90>"
      ]
     },
     "metadata": {},
     "output_type": "display_data"
    }
   ],
   "source": [
    "# Independent stats\n",
    "grouped = data.groupby('Group')\n",
    "means = grouped.mean()\n",
    "errors = grouped.std()\n",
    "\n",
    "# Repeated measures stats\n",
    "means_rm = data_rm.mean()\n",
    "errors_rm = data_rm.std()\n",
    "\n",
    "both_means = pd.concat([means, means_rm], keys=['ind', 'rm'])\n",
    "both_errors = pd.concat([errors, errors_rm], keys=['ind', 'rm'])\n",
    "fig, ax = plt.subplots()\n",
    "both_means.plot.bar(yerr=both_errors, ax=ax)\n",
    "\n",
    "plt.show()"
   ]
  },
  {
   "cell_type": "markdown",
   "metadata": {},
   "source": [
    "Error bars look identical between data-sets, but they should be different.\n",
    "\n",
    "Need to correct for the differences in means between people. We care about the variance between conditions, not about the difference in means between people in the repeated-measures study.\n",
    "\n",
    "#### To Correct:"
   ]
  },
  {
   "cell_type": "code",
   "execution_count": 4,
   "metadata": {},
   "outputs": [
    {
     "data": {
      "text/html": [
       "<div>\n",
       "<style>\n",
       "    .dataframe thead tr:only-child th {\n",
       "        text-align: right;\n",
       "    }\n",
       "\n",
       "    .dataframe thead th {\n",
       "        text-align: left;\n",
       "    }\n",
       "\n",
       "    .dataframe tbody tr th {\n",
       "        vertical-align: top;\n",
       "    }\n",
       "</style>\n",
       "<table border=\"1\" class=\"dataframe\">\n",
       "  <thead>\n",
       "    <tr style=\"text-align: right;\">\n",
       "      <th></th>\n",
       "      <th>picture</th>\n",
       "      <th>real</th>\n",
       "      <th>mean</th>\n",
       "      <th>adj</th>\n",
       "      <th>picture_adj</th>\n",
       "      <th>real_adj</th>\n",
       "    </tr>\n",
       "  </thead>\n",
       "  <tbody>\n",
       "    <tr>\n",
       "      <th>0</th>\n",
       "      <td>30</td>\n",
       "      <td>40</td>\n",
       "      <td>35.0</td>\n",
       "      <td>8.5</td>\n",
       "      <td>38.5</td>\n",
       "      <td>48.5</td>\n",
       "    </tr>\n",
       "    <tr>\n",
       "      <th>1</th>\n",
       "      <td>35</td>\n",
       "      <td>35</td>\n",
       "      <td>35.0</td>\n",
       "      <td>8.5</td>\n",
       "      <td>43.5</td>\n",
       "      <td>43.5</td>\n",
       "    </tr>\n",
       "    <tr>\n",
       "      <th>2</th>\n",
       "      <td>45</td>\n",
       "      <td>50</td>\n",
       "      <td>47.5</td>\n",
       "      <td>-4.0</td>\n",
       "      <td>41.0</td>\n",
       "      <td>46.0</td>\n",
       "    </tr>\n",
       "    <tr>\n",
       "      <th>3</th>\n",
       "      <td>40</td>\n",
       "      <td>55</td>\n",
       "      <td>47.5</td>\n",
       "      <td>-4.0</td>\n",
       "      <td>36.0</td>\n",
       "      <td>51.0</td>\n",
       "    </tr>\n",
       "    <tr>\n",
       "      <th>4</th>\n",
       "      <td>50</td>\n",
       "      <td>65</td>\n",
       "      <td>57.5</td>\n",
       "      <td>-14.0</td>\n",
       "      <td>36.0</td>\n",
       "      <td>51.0</td>\n",
       "    </tr>\n",
       "    <tr>\n",
       "      <th>5</th>\n",
       "      <td>35</td>\n",
       "      <td>55</td>\n",
       "      <td>45.0</td>\n",
       "      <td>-1.5</td>\n",
       "      <td>33.5</td>\n",
       "      <td>53.5</td>\n",
       "    </tr>\n",
       "    <tr>\n",
       "      <th>6</th>\n",
       "      <td>55</td>\n",
       "      <td>50</td>\n",
       "      <td>52.5</td>\n",
       "      <td>-9.0</td>\n",
       "      <td>46.0</td>\n",
       "      <td>41.0</td>\n",
       "    </tr>\n",
       "    <tr>\n",
       "      <th>7</th>\n",
       "      <td>25</td>\n",
       "      <td>35</td>\n",
       "      <td>30.0</td>\n",
       "      <td>13.5</td>\n",
       "      <td>38.5</td>\n",
       "      <td>48.5</td>\n",
       "    </tr>\n",
       "    <tr>\n",
       "      <th>8</th>\n",
       "      <td>30</td>\n",
       "      <td>30</td>\n",
       "      <td>30.0</td>\n",
       "      <td>13.5</td>\n",
       "      <td>43.5</td>\n",
       "      <td>43.5</td>\n",
       "    </tr>\n",
       "    <tr>\n",
       "      <th>9</th>\n",
       "      <td>45</td>\n",
       "      <td>50</td>\n",
       "      <td>47.5</td>\n",
       "      <td>-4.0</td>\n",
       "      <td>41.0</td>\n",
       "      <td>46.0</td>\n",
       "    </tr>\n",
       "    <tr>\n",
       "      <th>10</th>\n",
       "      <td>40</td>\n",
       "      <td>60</td>\n",
       "      <td>50.0</td>\n",
       "      <td>-6.5</td>\n",
       "      <td>33.5</td>\n",
       "      <td>53.5</td>\n",
       "    </tr>\n",
       "    <tr>\n",
       "      <th>11</th>\n",
       "      <td>50</td>\n",
       "      <td>39</td>\n",
       "      <td>44.5</td>\n",
       "      <td>-1.0</td>\n",
       "      <td>49.0</td>\n",
       "      <td>38.0</td>\n",
       "    </tr>\n",
       "  </tbody>\n",
       "</table>\n",
       "</div>"
      ],
      "text/plain": [
       "    picture  real  mean   adj  picture_adj  real_adj\n",
       "0        30    40  35.0   8.5         38.5      48.5\n",
       "1        35    35  35.0   8.5         43.5      43.5\n",
       "2        45    50  47.5  -4.0         41.0      46.0\n",
       "3        40    55  47.5  -4.0         36.0      51.0\n",
       "4        50    65  57.5 -14.0         36.0      51.0\n",
       "5        35    55  45.0  -1.5         33.5      53.5\n",
       "6        55    50  52.5  -9.0         46.0      41.0\n",
       "7        25    35  30.0  13.5         38.5      48.5\n",
       "8        30    30  30.0  13.5         43.5      43.5\n",
       "9        45    50  47.5  -4.0         41.0      46.0\n",
       "10       40    60  50.0  -6.5         33.5      53.5\n",
       "11       50    39  44.5  -1.0         49.0      38.0"
      ]
     },
     "execution_count": 4,
     "metadata": {},
     "output_type": "execute_result"
    }
   ],
   "source": [
    "data_rm = pd.read_csv('./spiderWide.dat', delim_whitespace=True)\n",
    "\n",
    "# Grand mean\n",
    "mean_g = data_rm.mean().mean()\n",
    "\n",
    "# Mean per person\n",
    "data_rm['mean'] = data_rm.mean(axis=1)\n",
    "\n",
    "# Adjustment per person\n",
    "data_rm['adj'] = mean_g - data_rm['mean']\n",
    "\n",
    "data_rm['picture_adj'] = data_rm.picture + data_rm.adj\n",
    "data_rm['real_adj'] = data_rm.real + data_rm.adj\n",
    "\n",
    "data_rm"
   ]
  },
  {
   "cell_type": "code",
   "execution_count": 5,
   "metadata": {},
   "outputs": [
    {
     "data": {
      "text/plain": [
       "<matplotlib.figure.Figure at 0x7f8f26d00d30>"
      ]
     },
     "metadata": {},
     "output_type": "display_data"
    },
    {
     "data": {
      "image/png": "[encoded data removed]",
      "text/plain": [
       "<matplotlib.figure.Figure at 0x7f8f605cd828>"
      ]
     },
     "metadata": {},
     "output_type": "display_data"
    }
   ],
   "source": [
    "# The corrected box plot\n",
    "\n",
    "# Repeated measures stats\n",
    "means_rm = data_rm[['picture_adj', 'real_adj']].mean()\n",
    "errors_rm = data_rm[['picture_adj', 'real_adj']].std()\n",
    "\n",
    "both_means = pd.concat([means, means_rm], keys=['ind', 'rm'])\n",
    "both_errors = pd.concat([errors, errors_rm], keys=['ind', 'rm'])\n",
    "plt.clf()\n",
    "fig, ax = plt.subplots()\n",
    "both_means.plot.bar(yerr=both_errors, ax=ax)\n",
    "\n",
    "plt.show()"
   ]
  },
  {
   "cell_type": "markdown",
   "metadata": {},
   "source": [
    "Means are the same, errors are much smaller.\n",
    "\n",
    "Two types of t-test:\n",
    "- Independent-means - two experimental conditions w/ different populations\n",
    "- Dependent-means - two experimental conditions tested w/ the same population\n",
    "\n",
    "#### Calculating a t-test\n",
    "\n",
    "((observed diff b/w sample means) - ( expected diff b/w pop means)) \n",
    "/ (estimate of std error of diff between two sample means)\n",
    "\n",
    "Do this by performing a regression w/ dummy variable g. g=0 for picture group, and g=1 for real spider group.\n",
    "\n",
    "x_ = b0 + (b1*g)\n",
    "\n",
    "If g = 0\n",
    "- x_picture = b0\n",
    "- b0 is the mean of the base group (picture)\n",
    "\n",
    "If g = 1, \n",
    "- x_real = x_picture + b1 \n",
    "- b1 = x_real - x_picture\n",
    "- b1 is the difference between means of the two groups\n",
    "\n",
    "Since this is a regression equation, we are testing if the regression coefficient, b1  is = 0."
   ]
  },
  {
   "cell_type": "code",
   "execution_count": 35,
   "metadata": {},
   "outputs": [
    {
     "data": {
      "text/plain": [
       "Ttest_indResult(statistic=-1.6813456149534149, pvalue=0.10683919238259681)"
      ]
     },
     "execution_count": 35,
     "metadata": {},
     "output_type": "execute_result"
    }
   ],
   "source": [
    "import scipy.stats as stats\n",
    "import statsmodels.formula.api as sm\n",
    "\n",
    "data_pic = data.loc[data.Group == 'Picture']\n",
    "data_real = data.loc[data.Group == 'Real']\n",
    "\n",
    "\n",
    "stats.ttest_ind(data_pic.Anxiety, data_real.Anxiety)"
   ]
  },
  {
   "cell_type": "code",
   "execution_count": 41,
   "metadata": {},
   "outputs": [
    {
     "data": {
      "text/html": [
       "<table class=\"simpletable\">\n",
       "<caption>OLS Regression Results</caption>\n",
       "<tr>\n",
       "  <th>Dep. Variable:</th>         <td>Anxiety</td>     <th>  R-squared:         </th> <td>   0.114</td>\n",
       "</tr>\n",
       "<tr>\n",
       "  <th>Model:</th>                   <td>OLS</td>       <th>  Adj. R-squared:    </th> <td>   0.074</td>\n",
       "</tr>\n",
       "<tr>\n",
       "  <th>Method:</th>             <td>Least Squares</td>  <th>  F-statistic:       </th> <td>   2.827</td>\n",
       "</tr>\n",
       "<tr>\n",
       "  <th>Date:</th>             <td>Wed, 27 Sep 2017</td> <th>  Prob (F-statistic):</th>  <td> 0.107</td> \n",
       "</tr>\n",
       "<tr>\n",
       "  <th>Time:</th>                 <td>19:13:57</td>     <th>  Log-Likelihood:    </th> <td> -88.743</td>\n",
       "</tr>\n",
       "<tr>\n",
       "  <th>No. Observations:</th>      <td>    24</td>      <th>  AIC:               </th> <td>   181.5</td>\n",
       "</tr>\n",
       "<tr>\n",
       "  <th>Df Residuals:</th>          <td>    22</td>      <th>  BIC:               </th> <td>   183.8</td>\n",
       "</tr>\n",
       "<tr>\n",
       "  <th>Df Model:</th>              <td>     1</td>      <th>                     </th>     <td> </td>   \n",
       "</tr>\n",
       "<tr>\n",
       "  <th>Covariance Type:</th>      <td>nonrobust</td>    <th>                     </th>     <td> </td>   \n",
       "</tr>\n",
       "</table>\n",
       "<table class=\"simpletable\">\n",
       "<tr>\n",
       "        <td></td>           <th>coef</th>     <th>std err</th>      <th>t</th>      <th>P>|t|</th>  <th>[0.025</th>    <th>0.975]</th>  \n",
       "</tr>\n",
       "<tr>\n",
       "  <th>Intercept</th>     <td>   40.0000</td> <td>    2.944</td> <td>   13.587</td> <td> 0.000</td> <td>   33.895</td> <td>   46.105</td>\n",
       "</tr>\n",
       "<tr>\n",
       "  <th>Group[T.Real]</th> <td>    7.0000</td> <td>    4.163</td> <td>    1.681</td> <td> 0.107</td> <td>   -1.634</td> <td>   15.634</td>\n",
       "</tr>\n",
       "</table>\n",
       "<table class=\"simpletable\">\n",
       "<tr>\n",
       "  <th>Omnibus:</th>       <td> 2.458</td> <th>  Durbin-Watson:     </th> <td>   1.805</td>\n",
       "</tr>\n",
       "<tr>\n",
       "  <th>Prob(Omnibus):</th> <td> 0.293</td> <th>  Jarque-Bera (JB):  </th> <td>   1.182</td>\n",
       "</tr>\n",
       "<tr>\n",
       "  <th>Skew:</th>          <td>-0.004</td> <th>  Prob(JB):          </th> <td>   0.554</td>\n",
       "</tr>\n",
       "<tr>\n",
       "  <th>Kurtosis:</th>      <td> 1.913</td> <th>  Cond. No.          </th> <td>    2.62</td>\n",
       "</tr>\n",
       "</table>"
      ],
      "text/plain": [
       "<class 'statsmodels.iolib.summary.Summary'>\n",
       "\"\"\"\n",
       "                            OLS Regression Results                            \n",
       "==============================================================================\n",
       "Dep. Variable:                Anxiety   R-squared:                       0.114\n",
       "Model:                            OLS   Adj. R-squared:                  0.074\n",
       "Method:                 Least Squares   F-statistic:                     2.827\n",
       "Date:                Wed, 27 Sep 2017   Prob (F-statistic):              0.107\n",
       "Time:                        19:13:57   Log-Likelihood:                -88.743\n",
       "No. Observations:                  24   AIC:                             181.5\n",
       "Df Residuals:                      22   BIC:                             183.8\n",
       "Df Model:                           1                                         \n",
       "Covariance Type:            nonrobust                                         \n",
       "=================================================================================\n",
       "                    coef    std err          t      P>|t|      [0.025      0.975]\n",
       "---------------------------------------------------------------------------------\n",
       "Intercept        40.0000      2.944     13.587      0.000      33.895      46.105\n",
       "Group[T.Real]     7.0000      4.163      1.681      0.107      -1.634      15.634\n",
       "==============================================================================\n",
       "Omnibus:                        2.458   Durbin-Watson:                   1.805\n",
       "Prob(Omnibus):                  0.293   Jarque-Bera (JB):                1.182\n",
       "Skew:                          -0.004   Prob(JB):                        0.554\n",
       "Kurtosis:                       1.913   Cond. No.                         2.62\n",
       "==============================================================================\n",
       "\n",
       "Warnings:\n",
       "[1] Standard Errors assume that the covariance matrix of the errors is correctly specified.\n",
       "\"\"\""
      ]
     },
     "execution_count": 41,
     "metadata": {},
     "output_type": "execute_result"
    }
   ],
   "source": [
    "result = sm.ols(formula=\"Anxiety ~ Group\", data=data).fit()\n",
    "result.summary()"
   ]
  },
  {
   "cell_type": "code",
   "execution_count": null,
   "metadata": {
    "collapsed": true
   },
   "outputs": [],
   "source": []
  }
 ],
 "metadata": {
  "kernelspec": {
   "display_name": "Python 3",
   "language": "python",
   "name": "python3"
  },
  "language_info": {
   "codemirror_mode": {
    "name": "ipython",
    "version": 3
   },
   "file_extension": ".py",
   "mimetype": "text/x-python",
   "name": "python",
   "nbconvert_exporter": "python",
   "pygments_lexer": "ipython3",
   "version": "3.6.1"
  }
 },
 "nbformat": 4,
 "nbformat_minor": 2
}
