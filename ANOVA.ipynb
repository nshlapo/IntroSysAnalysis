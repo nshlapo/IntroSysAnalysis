{
 "cells": [
  {
   "cell_type": "markdown",
   "metadata": {},
   "source": [
    "# How ANOVA works\n",
    "\n",
    "To compare systemic to unsystemic variance - By using different means for different groups, can we make a better predictive model?\n",
    "\n",
    "Repeating t-tests between a bunch of groups would inflate type I error rate"
   ]
  },
  {
   "cell_type": "markdown",
   "metadata": {},
   "source": [
    "## Getting results\n"
   ]
  },
  {
   "cell_type": "markdown",
   "metadata": {},
   "source": [
    "# Performing ANOVA"
   ]
  },
  {
   "cell_type": "code",
   "execution_count": 58,
   "metadata": {},
   "outputs": [
    {
     "data": {
      "text/html": [
       "<div>\n",
       "<style>\n",
       "    .dataframe thead tr:only-child th {\n",
       "        text-align: right;\n",
       "    }\n",
       "\n",
       "    .dataframe thead th {\n",
       "        text-align: left;\n",
       "    }\n",
       "\n",
       "    .dataframe tbody tr th {\n",
       "        vertical-align: top;\n",
       "    }\n",
       "</style>\n",
       "<table border=\"1\" class=\"dataframe\">\n",
       "  <thead>\n",
       "    <tr style=\"text-align: right;\">\n",
       "      <th></th>\n",
       "      <th>person</th>\n",
       "      <th>dose</th>\n",
       "      <th>libido</th>\n",
       "    </tr>\n",
       "  </thead>\n",
       "  <tbody>\n",
       "    <tr>\n",
       "      <th>0</th>\n",
       "      <td>1</td>\n",
       "      <td>1</td>\n",
       "      <td>3</td>\n",
       "    </tr>\n",
       "    <tr>\n",
       "      <th>1</th>\n",
       "      <td>2</td>\n",
       "      <td>1</td>\n",
       "      <td>2</td>\n",
       "    </tr>\n",
       "    <tr>\n",
       "      <th>2</th>\n",
       "      <td>3</td>\n",
       "      <td>1</td>\n",
       "      <td>1</td>\n",
       "    </tr>\n",
       "    <tr>\n",
       "      <th>3</th>\n",
       "      <td>4</td>\n",
       "      <td>1</td>\n",
       "      <td>1</td>\n",
       "    </tr>\n",
       "    <tr>\n",
       "      <th>4</th>\n",
       "      <td>5</td>\n",
       "      <td>1</td>\n",
       "      <td>4</td>\n",
       "    </tr>\n",
       "  </tbody>\n",
       "</table>\n",
       "</div>"
      ],
      "text/plain": [
       "   person  dose  libido\n",
       "0       1     1       3\n",
       "1       2     1       2\n",
       "2       3     1       1\n",
       "3       4     1       1\n",
       "4       5     1       4"
      ]
     },
     "execution_count": 58,
     "metadata": {},
     "output_type": "execute_result"
    }
   ],
   "source": [
    "import pandas as pd\n",
    "import matplotlib.pyplot as plt\n",
    "import seaborn as sns\n",
    "\n",
    "# Import data\n",
    "data = pd.read_csv('./Viagra.dat', delim_whitespace=True)\n",
    "data.head()"
   ]
  },
  {
   "cell_type": "code",
   "execution_count": 12,
   "metadata": {},
   "outputs": [
    {
     "data": {
      "text/plain": [
       "<matplotlib.figure.Figure at 0x7f9c5472e2e8>"
      ]
     },
     "metadata": {},
     "output_type": "display_data"
    },
    {
     "data": {
      "image/png": "[encoded data removed]",
      "text/plain": [
       "<matplotlib.figure.Figure at 0x7f9c542a4b00>"
      ]
     },
     "metadata": {},
     "output_type": "display_data"
    }
   ],
   "source": [
    "plt.clf()\n",
    "data.boxplot('libido', by='dose', figsize=(10,5))\n",
    "plt.show()"
   ]
  },
  {
   "cell_type": "markdown",
   "metadata": {},
   "source": [
    "### With Scipy"
   ]
  },
  {
   "cell_type": "code",
   "execution_count": 39,
   "metadata": {},
   "outputs": [
    {
     "name": "stdout",
     "output_type": "stream",
     "text": [
      "F-ratio:  5.1186440678\n",
      "p-value:  0.0246942895382\n"
     ]
    }
   ],
   "source": [
    "from scipy import stats\n",
    "\n",
    "# test = data.query('dose==3')\n",
    "# test.libido\n",
    "g1 = data.query('dose==1')\n",
    "g2 = data.query('dose==2')\n",
    "g3 = data.query('dose==3')\n",
    "\n",
    "f, p = stats.f_oneway(g1.libido, g2.libido, g3.libido)\n",
    "print('F-ratio: ', f)\n",
    "print('p-value: ', p)"
   ]
  },
  {
   "cell_type": "markdown",
   "metadata": {},
   "source": [
    "##### With Regression\n",
    "- Create dummy variables for different groups\n",
    "- prediction  = b0 + b1*g1 + b2*g2\n",
    "- b0 is the mean of the base category\n",
    "- b1 is the difference in means of the 1st group to the base, etc...\n",
    "    - Like a regression, kinda"
   ]
  },
  {
   "cell_type": "markdown",
   "metadata": {},
   "source": [
    "### With Statsmodels"
   ]
  },
  {
   "cell_type": "code",
   "execution_count": 75,
   "metadata": {},
   "outputs": [
    {
     "name": "stderr",
     "output_type": "stream",
     "text": [
      "/home/shlapo/.anaconda3/lib/python3.6/site-packages/scipy/stats/stats.py:1334: UserWarning:\n",
      "\n",
      "kurtosistest only valid for n>=20 ... continuing anyway, n=15\n",
      "\n"
     ]
    },
    {
     "data": {
      "text/html": [
       "<table class=\"simpletable\">\n",
       "<caption>OLS Regression Results</caption>\n",
       "<tr>\n",
       "  <th>Dep. Variable:</th>         <td>libido</td>      <th>  R-squared:         </th> <td>   0.460</td>\n",
       "</tr>\n",
       "<tr>\n",
       "  <th>Model:</th>                   <td>OLS</td>       <th>  Adj. R-squared:    </th> <td>   0.370</td>\n",
       "</tr>\n",
       "<tr>\n",
       "  <th>Method:</th>             <td>Least Squares</td>  <th>  F-statistic:       </th> <td>   5.119</td>\n",
       "</tr>\n",
       "<tr>\n",
       "  <th>Date:</th>             <td>Fri, 29 Sep 2017</td> <th>  Prob (F-statistic):</th>  <td>0.0247</td> \n",
       "</tr>\n",
       "<tr>\n",
       "  <th>Time:</th>                 <td>10:48:57</td>     <th>  Log-Likelihood:    </th> <td> -24.683</td>\n",
       "</tr>\n",
       "<tr>\n",
       "  <th>No. Observations:</th>      <td>    15</td>      <th>  AIC:               </th> <td>   55.37</td>\n",
       "</tr>\n",
       "<tr>\n",
       "  <th>Df Residuals:</th>          <td>    12</td>      <th>  BIC:               </th> <td>   57.49</td>\n",
       "</tr>\n",
       "<tr>\n",
       "  <th>Df Model:</th>              <td>     2</td>      <th>                     </th>     <td> </td>   \n",
       "</tr>\n",
       "<tr>\n",
       "  <th>Covariance Type:</th>      <td>nonrobust</td>    <th>                     </th>     <td> </td>   \n",
       "</tr>\n",
       "</table>\n",
       "<table class=\"simpletable\">\n",
       "<tr>\n",
       "      <td></td>         <th>coef</th>     <th>std err</th>      <th>t</th>      <th>P>|t|</th>  <th>[0.025</th>    <th>0.975]</th>  \n",
       "</tr>\n",
       "<tr>\n",
       "  <th>Intercept</th> <td>    2.2000</td> <td>    0.627</td> <td>    3.508</td> <td> 0.004</td> <td>    0.834</td> <td>    3.566</td>\n",
       "</tr>\n",
       "<tr>\n",
       "  <th>dummy_2</th>   <td>    1.0000</td> <td>    0.887</td> <td>    1.127</td> <td> 0.282</td> <td>   -0.932</td> <td>    2.932</td>\n",
       "</tr>\n",
       "<tr>\n",
       "  <th>dummy_3</th>   <td>    2.8000</td> <td>    0.887</td> <td>    3.157</td> <td> 0.008</td> <td>    0.868</td> <td>    4.732</td>\n",
       "</tr>\n",
       "</table>\n",
       "<table class=\"simpletable\">\n",
       "<tr>\n",
       "  <th>Omnibus:</th>       <td> 2.517</td> <th>  Durbin-Watson:     </th> <td>   2.408</td>\n",
       "</tr>\n",
       "<tr>\n",
       "  <th>Prob(Omnibus):</th> <td> 0.284</td> <th>  Jarque-Bera (JB):  </th> <td>   1.108</td>\n",
       "</tr>\n",
       "<tr>\n",
       "  <th>Skew:</th>          <td> 0.195</td> <th>  Prob(JB):          </th> <td>   0.575</td>\n",
       "</tr>\n",
       "<tr>\n",
       "  <th>Kurtosis:</th>      <td> 1.727</td> <th>  Cond. No.          </th> <td>    3.73</td>\n",
       "</tr>\n",
       "</table>"
      ],
      "text/plain": [
       "<class 'statsmodels.iolib.summary.Summary'>\n",
       "\"\"\"\n",
       "                            OLS Regression Results                            \n",
       "==============================================================================\n",
       "Dep. Variable:                 libido   R-squared:                       0.460\n",
       "Model:                            OLS   Adj. R-squared:                  0.370\n",
       "Method:                 Least Squares   F-statistic:                     5.119\n",
       "Date:                Fri, 29 Sep 2017   Prob (F-statistic):             0.0247\n",
       "Time:                        10:48:57   Log-Likelihood:                -24.683\n",
       "No. Observations:                  15   AIC:                             55.37\n",
       "Df Residuals:                      12   BIC:                             57.49\n",
       "Df Model:                           2                                         \n",
       "Covariance Type:            nonrobust                                         \n",
       "==============================================================================\n",
       "                 coef    std err          t      P>|t|      [0.025      0.975]\n",
       "------------------------------------------------------------------------------\n",
       "Intercept      2.2000      0.627      3.508      0.004       0.834       3.566\n",
       "dummy_2        1.0000      0.887      1.127      0.282      -0.932       2.932\n",
       "dummy_3        2.8000      0.887      3.157      0.008       0.868       4.732\n",
       "==============================================================================\n",
       "Omnibus:                        2.517   Durbin-Watson:                   2.408\n",
       "Prob(Omnibus):                  0.284   Jarque-Bera (JB):                1.108\n",
       "Skew:                           0.195   Prob(JB):                        0.575\n",
       "Kurtosis:                       1.727   Cond. No.                         3.73\n",
       "==============================================================================\n",
       "\n",
       "Warnings:\n",
       "[1] Standard Errors assume that the covariance matrix of the errors is correctly specified.\n",
       "\"\"\""
      ]
     },
     "execution_count": 75,
     "metadata": {},
     "output_type": "execute_result"
    }
   ],
   "source": [
    "import statsmodels as sm\n",
    "from statsmodels.formula.api import ols\n",
    "\n",
    "dummies = pd.get_dummies(data.dose, prefix='dummy')\n",
    "data_dummies = pd.concat([data.drop('dose', axis=1), dummies.drop('dummy_1', axis=1)], axis=1)\n",
    "\n",
    "formula = ('libido ~ dummy_2 + dummy_3')\n",
    "res = ols(formula, data=data_dummies).fit()\n",
    "res.summary()"
   ]
  },
  {
   "cell_type": "markdown",
   "metadata": {},
   "source": [
    "##### Calculations\n",
    "- SSt = diff between each point and grand mean / variance*(points - 1)\n",
    "- SSr = diff between each point and it's group mean\n",
    "    - how much of the variation can't be explained by the model\n",
    "    - calculated by group and summed - diff between each point and it's group\n",
    "    - degrees of freedom is dft - dfm\n",
    "- SSm = diff between mean group values and grand mean\n",
    "    - how much data can be explained by the fact that they come from different groups\n",
    "\n",
    "SS values are influenced by the number of things they sum, so need to divide them by the df\n",
    "\n",
    "F-ratio is the ratio of the mean SSm/mean SSr, so you want the model to explain more than the unexplained variance: F > 1"
   ]
  },
  {
   "cell_type": "markdown",
   "metadata": {},
   "source": [
    "### By Hand"
   ]
  },
  {
   "cell_type": "code",
   "execution_count": 15,
   "metadata": {},
   "outputs": [
    {
     "name": "stdout",
     "output_type": "stream",
     "text": [
      "SS total:  43.73333333333333\n",
      "SS model:  20.1333333333\n",
      "SS residual:  23.6\n"
     ]
    }
   ],
   "source": [
    "n = len(data.libido)\n",
    "n1, n2, n3 = data.groupby('dose').count().person\n",
    "k = len(pd.unique(data.dose))\n",
    "\n",
    "# Calculate total and group means\n",
    "mean = data.libido.mean()\n",
    "g1_mean, g2_mean, g3_mean = data.groupby('dose').mean().libido \n",
    "\n",
    "# Calculate group variances\n",
    "g1_var, g2_var, g3_var = data.groupby('dose').var().libido\n",
    "\n",
    "# Calculate Sum of Squares values\n",
    "SSt = data.libido.var()*(n-1)\n",
    "SSm = n1*(g1_mean - mean)**2 + n2*(g2_mean - mean)**2 + n3*(g3_mean - mean)**2\n",
    "SSr = (n1-1)*g1_var + (n2-1)*g2_var + (n3-1)*g3_var\n",
    "\n",
    "\n",
    "print('SS total: ', SSt)\n",
    "print('SS model: ', SSm)\n",
    "print('SS residual: ', SSr)"
   ]
  },
  {
   "cell_type": "code",
   "execution_count": 16,
   "metadata": {},
   "outputs": [
    {
     "name": "stdout",
     "output_type": "stream",
     "text": [
      "F-ratio:  5.1186440678\n",
      "p-value:  0.0246942895382\n"
     ]
    }
   ],
   "source": [
    "# Calculate mean squares\n",
    "\n",
    "MSm = SSm/(k-1)\n",
    "MSr = SSr/((n-1)-(k-1))\n",
    "\n",
    "F = MSm/MSr\n",
    "p = stats.f.sf(F, (k-1), ((n-1) - (k-1)))\n",
    "\n",
    "print('F-ratio: ', F)\n",
    "print('p-value: ', p)"
   ]
  },
  {
   "cell_type": "markdown",
   "metadata": {
    "collapsed": true
   },
   "source": [
    "#### Assumptions\n",
    "Homogeneity of variance (variance of different groups are equal) - can be tested with Levene's test\n",
    "Becomes less robust when sample sizes are not equal\n",
    "\n",
    "#### Questions\n",
    "Does all the data need to be normal, or do each of the groups need to be normally distributed? "
   ]
  },
  {
   "cell_type": "markdown",
   "metadata": {},
   "source": [
    "##### Past the F-ratio\n",
    "We want to know where differences in groups lie.\n",
    "\n",
    "We can either:\n",
    "1. Break down variance accounted for by model into component parts\n",
    "2. Compare every group w/ stricter acceptance (to avoid Type I error) - post hoc tests\n",
    "\n",
    "Difference is like 1 vs 2-tailed test. \n",
    "- Planned comparison when you have specific hypothesis to test\n",
    "- post hoc tests when there's no specific hypothesis\n",
    "\n",
    "##### Planned Contrasts\n",
    "- Need to have your hypothesis before you go collect the data.\n",
    "- Split up variance due to model into more components\n",
    "- Each contrast can only compare to chunks of variation\n",
    "- Once you compare a group in one contrast you can't use it again.\n",
    "    - Should always be k-1 contrasts\n",
    "- Intercepts again represent difference between the means of groups, divided by number of groups in contrast\n",
    "\n"
   ]
  },
  {
   "cell_type": "code",
   "execution_count": 71,
   "metadata": {},
   "outputs": [
    {
     "name": "stderr",
     "output_type": "stream",
     "text": [
      "/home/shlapo/.anaconda3/lib/python3.6/site-packages/scipy/stats/stats.py:1334: UserWarning:\n",
      "\n",
      "kurtosistest only valid for n>=20 ... continuing anyway, n=15\n",
      "\n"
     ]
    },
    {
     "data": {
      "text/html": [
       "<table class=\"simpletable\">\n",
       "<caption>OLS Regression Results</caption>\n",
       "<tr>\n",
       "  <th>Dep. Variable:</th>         <td>libido</td>      <th>  R-squared:         </th> <td>   0.460</td>\n",
       "</tr>\n",
       "<tr>\n",
       "  <th>Model:</th>                   <td>OLS</td>       <th>  Adj. R-squared:    </th> <td>   0.370</td>\n",
       "</tr>\n",
       "<tr>\n",
       "  <th>Method:</th>             <td>Least Squares</td>  <th>  F-statistic:       </th> <td>   5.119</td>\n",
       "</tr>\n",
       "<tr>\n",
       "  <th>Date:</th>             <td>Fri, 29 Sep 2017</td> <th>  Prob (F-statistic):</th>  <td>0.0247</td> \n",
       "</tr>\n",
       "<tr>\n",
       "  <th>Time:</th>                 <td>09:48:42</td>     <th>  Log-Likelihood:    </th> <td> -24.683</td>\n",
       "</tr>\n",
       "<tr>\n",
       "  <th>No. Observations:</th>      <td>    15</td>      <th>  AIC:               </th> <td>   55.37</td>\n",
       "</tr>\n",
       "<tr>\n",
       "  <th>Df Residuals:</th>          <td>    12</td>      <th>  BIC:               </th> <td>   57.49</td>\n",
       "</tr>\n",
       "<tr>\n",
       "  <th>Df Model:</th>              <td>     2</td>      <th>                     </th>     <td> </td>   \n",
       "</tr>\n",
       "<tr>\n",
       "  <th>Covariance Type:</th>      <td>nonrobust</td>    <th>                     </th>     <td> </td>   \n",
       "</tr>\n",
       "</table>\n",
       "<table class=\"simpletable\">\n",
       "<tr>\n",
       "       <td></td>         <th>coef</th>     <th>std err</th>      <th>t</th>      <th>P>|t|</th>  <th>[0.025</th>    <th>0.975]</th>  \n",
       "</tr>\n",
       "<tr>\n",
       "  <th>Intercept</th>  <td>    3.4667</td> <td>    0.362</td> <td>    9.574</td> <td> 0.000</td> <td>    2.678</td> <td>    4.256</td>\n",
       "</tr>\n",
       "<tr>\n",
       "  <th>contrast_1</th> <td>    0.6333</td> <td>    0.256</td> <td>    2.474</td> <td> 0.029</td> <td>    0.075</td> <td>    1.191</td>\n",
       "</tr>\n",
       "<tr>\n",
       "  <th>contrast_2</th> <td>    0.9000</td> <td>    0.443</td> <td>    2.029</td> <td> 0.065</td> <td>   -0.066</td> <td>    1.866</td>\n",
       "</tr>\n",
       "</table>\n",
       "<table class=\"simpletable\">\n",
       "<tr>\n",
       "  <th>Omnibus:</th>       <td> 2.517</td> <th>  Durbin-Watson:     </th> <td>   2.408</td>\n",
       "</tr>\n",
       "<tr>\n",
       "  <th>Prob(Omnibus):</th> <td> 0.284</td> <th>  Jarque-Bera (JB):  </th> <td>   1.108</td>\n",
       "</tr>\n",
       "<tr>\n",
       "  <th>Skew:</th>          <td> 0.195</td> <th>  Prob(JB):          </th> <td>   0.575</td>\n",
       "</tr>\n",
       "<tr>\n",
       "  <th>Kurtosis:</th>      <td> 1.727</td> <th>  Cond. No.          </th> <td>    1.73</td>\n",
       "</tr>\n",
       "</table>"
      ],
      "text/plain": [
       "<class 'statsmodels.iolib.summary.Summary'>\n",
       "\"\"\"\n",
       "                            OLS Regression Results                            \n",
       "==============================================================================\n",
       "Dep. Variable:                 libido   R-squared:                       0.460\n",
       "Model:                            OLS   Adj. R-squared:                  0.370\n",
       "Method:                 Least Squares   F-statistic:                     5.119\n",
       "Date:                Fri, 29 Sep 2017   Prob (F-statistic):             0.0247\n",
       "Time:                        09:48:42   Log-Likelihood:                -24.683\n",
       "No. Observations:                  15   AIC:                             55.37\n",
       "Df Residuals:                      12   BIC:                             57.49\n",
       "Df Model:                           2                                         \n",
       "Covariance Type:            nonrobust                                         \n",
       "==============================================================================\n",
       "                 coef    std err          t      P>|t|      [0.025      0.975]\n",
       "------------------------------------------------------------------------------\n",
       "Intercept      3.4667      0.362      9.574      0.000       2.678       4.256\n",
       "contrast_1     0.6333      0.256      2.474      0.029       0.075       1.191\n",
       "contrast_2     0.9000      0.443      2.029      0.065      -0.066       1.866\n",
       "==============================================================================\n",
       "Omnibus:                        2.517   Durbin-Watson:                   2.408\n",
       "Prob(Omnibus):                  0.284   Jarque-Bera (JB):                1.108\n",
       "Skew:                           0.195   Prob(JB):                        0.575\n",
       "Kurtosis:                       1.727   Cond. No.                         1.73\n",
       "==============================================================================\n",
       "\n",
       "Warnings:\n",
       "[1] Standard Errors assume that the covariance matrix of the errors is correctly specified.\n",
       "\"\"\""
      ]
     },
     "execution_count": 71,
     "metadata": {},
     "output_type": "execute_result"
    }
   ],
   "source": [
    "# Create contrasts\n",
    "\n",
    "data['contrast_1'] = data.dose.apply(lambda x: -2 if x==1 else 1)\n",
    "data['contrast_2'] = data.dose.apply(lambda x: 0 if x==1 else (-1 if x==2 else 1))\n",
    "\n",
    "formula = ('libido ~ contrast_1 + contrast_2')\n",
    "res = ols(formula, data=data).fit()\n",
    "res.summary()"
   ]
  },
  {
   "cell_type": "markdown",
   "metadata": {},
   "source": [
    "Experimental groups were significantly different from control ( contrast_1) but not significantly different from each other (contrast_2).\n",
    "\n",
    "#### Other Contrast Codings\n",
    "So I guess you can break the orthogonal rule, as long as you consider that the comparisons are now dependant.\n",
    "\n",
    "Polynomial, Quadratic, etc...\n",
    "\n",
    "Check out patsy package for coding matrices.\n",
    "\n",
    "### Post hoc\n",
    "If you have no preconcieved hypotheses, do a full pairwise comparison.\n",
    "\n",
    "Bonferroni correction - you need to divide p by k (number of tests)\n",
    "- Increase probability of Type II error\n",
    "\n",
    "More sophisticated methods are *stepped*\n",
    "- start with Bonferroni, then modify the significance for each consecutive test\n",
    "\n",
    "If a test is too conservative (really wants to avoid Type I), it won't have much statistical power (so it'll reject meaningful differences - Type II)\n",
    "\n",
    "#### Different Tests\n",
    "- Equal sample sizes -> Tukey\n",
    "- Bonferroni is conservative, but controls Type I\n",
    "- Holm's power > Bonferroni\n",
    "- Benjamini-Hochberg > Holm (but it controls False Discovery Rate)"
   ]
  },
  {
   "cell_type": "code",
   "execution_count": 80,
   "metadata": {},
   "outputs": [
    {
     "data": {
      "text/html": [
       "<table class=\"simpletable\">\n",
       "<caption>Multiple Comparison of Means - Tukey HSD,FWER=0.05</caption>\n",
       "<tr>\n",
       "  <th>group1</th> <th>group2</th> <th>meandiff</th>  <th>lower</th>   <th>upper</th> <th>reject</th>\n",
       "</tr>\n",
       "<tr>\n",
       "     <td>1</td>      <td>2</td>      <td>1.0</td>   <td>-1.3651</td> <td>3.3651</td>  <td>False</td>\n",
       "</tr>\n",
       "<tr>\n",
       "     <td>1</td>      <td>3</td>      <td>2.8</td>   <td>0.4349</td>  <td>5.1651</td>  <td>True</td> \n",
       "</tr>\n",
       "<tr>\n",
       "     <td>2</td>      <td>3</td>      <td>1.8</td>   <td>-0.5651</td> <td>4.1651</td>  <td>False</td>\n",
       "</tr>\n",
       "</table>"
      ],
      "text/plain": [
       "<class 'statsmodels.iolib.table.SimpleTable'>"
      ]
     },
     "execution_count": 80,
     "metadata": {},
     "output_type": "execute_result"
    }
   ],
   "source": [
    "pairwise = sm.stats.multicomp.pairwise_tukeyhsd(data.libido, data.dose)\n",
    "pairwise.summary()"
   ]
  },
  {
   "cell_type": "code",
   "execution_count": null,
   "metadata": {
    "collapsed": true
   },
   "outputs": [],
   "source": []
  }
 ],
 "metadata": {
  "kernelspec": {
   "display_name": "Python 3",
   "language": "python",
   "name": "python3"
  },
  "language_info": {
   "codemirror_mode": {
    "name": "ipython",
    "version": 3
   },
   "file_extension": ".py",
   "mimetype": "text/x-python",
   "name": "python",
   "nbconvert_exporter": "python",
   "pygments_lexer": "ipython3",
   "version": "3.6.1"
  }
 },
 "nbformat": 4,
 "nbformat_minor": 2
}
