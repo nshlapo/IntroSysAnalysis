{
 "cells": [
  {
   "cell_type": "markdown",
   "metadata": {},
   "source": [
    "## Problem 4"
   ]
  },
  {
   "cell_type": "code",
   "execution_count": 105,
   "metadata": {},
   "outputs": [],
   "source": [
    "import numpy as np\n",
    "import matplotlib.pyplot as plt\n",
    "\n",
    "class Problem4:\n",
    "    \n",
    "    def __init__(self, f):\n",
    "        self.f = f\n",
    "\n",
    "    def quad_line_search(self, x, s, t, eps, N):\n",
    "        ''' \n",
    "            x (list): arbitrary location in n dimensions\n",
    "            s (list): arbitrary search direction in n dimensions\n",
    "            t (int): initial stride\n",
    "            eps (int): minimum tolerance\n",
    "            N (int): maximum number of iterations\n",
    "        '''\n",
    "        \n",
    "        plt.plot(*x, '+')\n",
    "        \n",
    "        self.x_min = x\n",
    "        self.s = s\n",
    "        self.t = t\n",
    "        self.eps = eps\n",
    "        i = 0\n",
    "        \n",
    "        while i < N:\n",
    "            g0, g1, g2 = self.generate_points()\n",
    "            g_min = self.three_pt_quad_min(g0, g1, g2)\n",
    "            print(g_min)\n",
    "            self.x_min = self.x_min + g_min[0]*s\n",
    "            i += 1\n",
    "            \n",
    "#             if self.converged([g_min[1], g0[1], g1[1], g2[1]]):\n",
    "            if self.converged([g_min[1], g0[1]]):\n",
    "                plt.plot(*self.x_min, 'x')\n",
    "                plt.show()\n",
    "                return 'Converged to x = {0} in {1} function calls.'.format(self.x_min, i)\n",
    "            \n",
    "            else:\n",
    "                plt.plot(*self.x_min, 'o', markerfacecolor='None')\n",
    "\n",
    "        plt.show()\n",
    "    \n",
    "    def generate_points(self):\n",
    "        '''\n",
    "            \n",
    "        '''\n",
    "        g0 = [0, self.f(self.x_min)]\n",
    "        g1 = [self.t, self.f(self.x_min + self.t*self.s)]\n",
    "        g2 = [2*self.t, self.f(self.x_min + 2*self.t*self.s)]\n",
    "        \n",
    "        return g0, g1, g2\n",
    "        \n",
    "    def three_pt_quad_min(self, pt1, pt2, pt3):\n",
    "        # pt1, pt2, pt3 (list): [x, f(x)]\n",
    "        # x (num): point to calculate approximate f(x)\n",
    "\n",
    "        a2_num = ((pt3[1] - pt1[1]) / (pt3[0] - pt1[0])) - ((pt2[1] - pt1[1]) / (pt2[0] - pt1[0]))\n",
    "        a2 = a2_num / (pt3[0] - pt2[0])\n",
    "        a1 = ((pt2[1] - pt1[1]) / (pt2[0] - pt1[0])) - a2*(pt1[0] + pt2[0])\n",
    "        a0 = pt1[1] - a1*pt1[0] - a2*(pt1[0]**2)\n",
    "    \n",
    "        pt_min = -a1/(2*a2)\n",
    "        print(pt_min)\n",
    "        return [pt_min, a0 + a1*pt_min + a2*(pt_min**2)]\n",
    "\n",
    "\n",
    "\n",
    "    def converged(self, fs):\n",
    "        '''\n",
    "            fs (list): function eval values associated with quadratic polynomial\n",
    "            eps (int): minimum tolerance\n",
    "        '''\n",
    "\n",
    "        max_f = max(fs)\n",
    "        min_f = min(fs)\n",
    "        \n",
    "        tol = abs(max_f - min_f)/max(10**(-8), min_f)\n",
    "#         print(tol)\n",
    "        return tol < self.eps"
   ]
  },
  {
   "cell_type": "code",
   "execution_count": 109,
   "metadata": {},
   "outputs": [
    {
     "name": "stdout",
     "output_type": "stream",
     "text": [
      "1.50726419878\n",
      "[1.5072641987828799, 10988.683761410619]\n",
      "1.11867945487\n",
      "[1.1186794548692434, 3726.4910654040686]\n",
      "0.732812980304\n",
      "[0.73281298030362918, 2336.2375069744598]\n",
      "0.140732549314\n",
      "[0.14073254931373141, 2256.4955163149039]\n",
      "0.000296202067519\n",
      "[0.00029620206751888541, 2256.4996532858522]\n"
     ]
    },
    {
     "data": {
      "image/png": "[encoded data removed]",
      "text/plain": [
       "<matplotlib.figure.Figure at 0x7f0dfacbf0b8>"
      ]
     },
     "metadata": {},
     "output_type": "display_data"
    },
    {
     "data": {
      "text/plain": [
       "'Converged to x = [ 0.50021461 -4.49978539] in 5 function calls.'"
      ]
     },
     "execution_count": 109,
     "metadata": {},
     "output_type": "execute_result"
    }
   ],
   "source": [
    "def rosenbrock(x):\n",
    "    [x1, x2] = x\n",
    "    term_1 = (1-x1)**2\n",
    "    term_2 = 100*(x2-(x1**2))**2\n",
    "    \n",
    "    return term_1 + term_2\n",
    "\n",
    "x = np.array([4, -1])\n",
    "s = np.array([-1, -1])\n",
    "t = .1\n",
    "eps = 10**(-4)\n",
    "N = 100\n",
    "\n",
    "solve = Problem4(rosenbrock)\n",
    "solve.quad_line_search(x, s, t, eps, N)"
   ]
  },
  {
   "cell_type": "code",
   "execution_count": null,
   "metadata": {
    "collapsed": true
   },
   "outputs": [],
   "source": []
  },
  {
   "cell_type": "code",
   "execution_count": null,
   "metadata": {
    "collapsed": true
   },
   "outputs": [],
   "source": []
  }
 ],
 "metadata": {
  "kernelspec": {
   "display_name": "Python 3",
   "language": "python",
   "name": "python3"
  },
  "language_info": {
   "codemirror_mode": {
    "name": "ipython",
    "version": 3
   },
   "file_extension": ".py",
   "mimetype": "text/x-python",
   "name": "python",
   "nbconvert_exporter": "python",
   "pygments_lexer": "ipython3",
   "version": "3.6.1"
  }
 },
 "nbformat": 4,
 "nbformat_minor": 2
}
