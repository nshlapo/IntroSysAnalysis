{
 "cells": [
  {
   "cell_type": "code",
   "execution_count": 15,
   "metadata": {
    "collapsed": true
   },
   "outputs": [],
   "source": [
    "def poly(x):\n",
    "    return (10 - 20*x + 2*(x**2) + (x**4))\n",
    "\n",
    "def poly_deriv(x):\n",
    "    return (-20 + 4*x + 4*(x**3))\n",
    "\n",
    "def step(x, f, fd):\n",
    "    return (x - f/fd)"
   ]
  },
  {
   "cell_type": "code",
   "execution_count": 16,
   "metadata": {
    "collapsed": true
   },
   "outputs": [],
   "source": [
    "X = [0]\n",
    "F = []\n",
    "Fd = []\n",
    "\n",
    "# F.append(poly(X[-1]))\n",
    "# print(F)\n",
    "# Fd.append(poly_deriv(X[-1]))\n",
    "# print(Fd)\n",
    "# X.append(step(X[-1], F[-1], Fd[-1]))\n",
    "# print(X)"
   ]
  },
  {
   "cell_type": "code",
   "execution_count": 17,
   "metadata": {},
   "outputs": [
    {
     "ename": "IndentationError",
     "evalue": "expected an indented block (<ipython-input-17-88523f679c06>, line 10)",
     "output_type": "error",
     "traceback": [
      "\u001b[0;36m  File \u001b[0;32m\"<ipython-input-17-88523f679c06>\"\u001b[0;36m, line \u001b[0;32m10\u001b[0m\n\u001b[0;31m    print(X)\u001b[0m\n\u001b[0m        ^\u001b[0m\n\u001b[0;31mIndentationError\u001b[0m\u001b[0;31m:\u001b[0m expected an indented block\n"
     ]
    }
   ],
   "source": [
    "while True:\n",
    "    F.append(poly(X[-1]))\n",
    "    Fd.append(poly_deriv(X[-1]))\n",
    "    X.append(step(X[-1], F[-1], Fd[-1]))\n",
    "    if F[-1] < .001:\n",
    "        break\n",
    "\n",
    "# for i in range(len(X)):\n",
    "    \n",
    "# print(X)\n",
    "# print(F)\n",
    "# print(Fd)\n",
    "\n"
   ]
  },
  {
   "cell_type": "markdown",
   "metadata": {
    "collapsed": true
   },
   "source": [
    "### 2-5"
   ]
  },
  {
   "cell_type": "code",
   "execution_count": 20,
   "metadata": {},
   "outputs": [
    {
     "name": "stdout",
     "output_type": "stream",
     "text": [
      "[ 0.          0.06122449  0.12244898  0.18367347  0.24489796  0.30612245\n",
      "  0.36734694  0.42857143  0.48979592  0.55102041  0.6122449   0.67346939\n",
      "  0.73469388  0.79591837  0.85714286  0.91836735  0.97959184  1.04081633\n",
      "  1.10204082  1.16326531  1.2244898   1.28571429  1.34693878  1.40816327\n",
      "  1.46938776  1.53061224  1.59183673  1.65306122  1.71428571  1.7755102\n",
      "  1.83673469  1.89795918  1.95918367  2.02040816  2.08163265  2.14285714\n",
      "  2.20408163  2.26530612  2.32653061  2.3877551   2.44897959  2.51020408\n",
      "  2.57142857  2.63265306  2.69387755  2.75510204  2.81632653  2.87755102\n",
      "  2.93877551  3.        ]\n"
     ]
    }
   ],
   "source": [
    "import numpy as np\n",
    "import matplotlib.pyplot as plt\n",
    "\n",
    "def F(x):\n",
    "    return (x**2)\n",
    "\n",
    "def g1(x):\n",
    "    return (1 - x)\n",
    "\n",
    "def g2(x):\n",
    "    return (x - 2)\n",
    "\n",
    "X = np.linspace(0, 3)\n",
    "print(X)"
   ]
  },
  {
   "cell_type": "code",
   "execution_count": null,
   "metadata": {},
   "outputs": [],
   "source": [
    "plt.plot(X, F(X))\n",
    "plt.plot(X, g1(X))\n",
    "plt.plot(X, g2(X))\n",
    "plt.show()"
   ]
  },
  {
   "cell_type": "code",
   "execution_count": null,
   "metadata": {
    "collapsed": true
   },
   "outputs": [],
   "source": [
    "def F_pen(x, R=5):\n",
    "    return (F(x) - R*((1/g1(x)) + (1/g2(x))))"
   ]
  },
  {
   "cell_type": "code",
   "execution_count": null,
   "metadata": {},
   "outputs": [],
   "source": [
    "plt.cla()\n",
    "plt.plot(X, F_pen(X, 5))\n",
    "plt.show()"
   ]
  },
  {
   "cell_type": "code",
   "execution_count": null,
   "metadata": {},
   "outputs": [],
   "source": [
    "plt.cla()\n",
    "plt.plot(X, F_pen(X, .5))\n",
    "plt.show()"
   ]
  },
  {
   "cell_type": "markdown",
   "metadata": {},
   "source": [
    "### Golden Section Search"
   ]
  },
  {
   "cell_type": "code",
   "execution_count": null,
   "metadata": {
    "collapsed": true
   },
   "outputs": [],
   "source": [
    "def GSS_min(func, x_l, x_u, dX=0, eps=0, N=0):\n",
    "    \n",
    "    if x_l > x_u:\n",
    "        raise Exception('Lower bound is greater than upper bound')\n",
    "    # Calculate num of steps if not given\n",
    "    if N == 0:\n",
    "        if eps == 0:\n",
    "            if dX == 0:\n",
    "                raise Exception('No max iteration provided')\n",
    "            else:\n",
    "                eps = dX/(x_u - x_l)\n",
    "        N = -2.078*np.log(eps) + 3\n",
    "        \n",
    "    tau = .381966\n",
    "    # Calculate initial bounds\n",
    "    f_l = func(x_l)\n",
    "    f_u = func(x_u)\n",
    "    \n",
    "    # Calculate initial interior points\n",
    "    x_1 = (1-tau)*x_l + tau*x_u\n",
    "    f_1 = func(x_1)\n",
    "    x_2 = tau*x_l + (1-tau)*x_u\n",
    "    f_2 = func(x_2)\n",
    "    \n",
    "    # Step\n",
    "    k = 4\n",
    "    while (k < N):\n",
    "        if (f_1 > f_2):\n",
    "            x_l, f_l = x_1, f_1\n",
    "            x_1, f_1 = x_2, f_2\n",
    "            x_2 = tau*x_1 + (1-tau)*x_u\n",
    "            f_2 = func(x_2)\n",
    "        else:\n",
    "            x_u, f_u = x_2, f_2\n",
    "            x_2, f_2 = x_1, f_1\n",
    "            x_1 = (1-tau)*x_l + tau*x_u\n",
    "            f_1 = func(x_1)\n",
    "        k += 1\n",
    "    \n",
    "    return (x_1, f_1) if (f_1 > f_2) else (x_2, f_2)"
   ]
  },
  {
   "cell_type": "code",
   "execution_count": null,
   "metadata": {},
   "outputs": [],
   "source": [
    "def f_test(x):\n",
    "    return 1 + x + x**2\n",
    "\n",
    "x_min, f_min = GSS_min(f_test, -10, 10, dX=1)\n",
    "print(x_min, f_min)"
   ]
  },
  {
   "cell_type": "code",
   "execution_count": null,
   "metadata": {},
   "outputs": [],
   "source": [
    "x_min, f_min = GSS_min(F_pen, 1.001, 1.999, dX=.1)\n",
    "print(x_min, f_min)"
   ]
  },
  {
   "cell_type": "markdown",
   "metadata": {},
   "source": [
    "### 2-10"
   ]
  },
  {
   "cell_type": "code",
   "execution_count": null,
   "metadata": {
    "collapsed": true
   },
   "outputs": [],
   "source": [
    "def func_1(x_1, x_2):\n",
    "    return (10 - 4*x_1 + 2/x_2)\n",
    "\n",
    "def g_1(x_1):\n",
    "    return ((5-x_1)**.5)"
   ]
  },
  {
   "cell_type": "code",
   "execution_count": null,
   "metadata": {},
   "outputs": [],
   "source": [
    "X_1, X_2 = np.meshgrid(np.arange(0, 20, .1), np.arange(0, 20, .1))\n",
    "Func_1 = func_1(X_1, X_2)\n",
    "x = np.arange(-5, 20, .1)\n",
    "g = g_1(x)"
   ]
  },
  {
   "cell_type": "code",
   "execution_count": null,
   "metadata": {},
   "outputs": [],
   "source": [
    "plt.cla()\n",
    "CS = plt.contour(X_1, X_2, Func_1)\n",
    "plt.clabel(CS, inline=1)\n",
    "plt.plot(g, x)\n",
    "plt.show()"
   ]
  },
  {
   "cell_type": "markdown",
   "metadata": {
    "collapsed": true
   },
   "source": [
    "# Approximation Functions"
   ]
  },
  {
   "cell_type": "code",
   "execution_count": 60,
   "metadata": {
    "collapsed": true
   },
   "outputs": [],
   "source": [
    "def one_pt_lin(pt, x):\n",
    "    # pt (tuple): (x, f(x), f'(x))\n",
    "    # x (num): point to calculate approximate f(x)\n",
    "    \n",
    "    a1 = pt[2]\n",
    "    a0 = (pt[1] - pt[2]) / pt[0]\n",
    "    return a0 + a1*x\n",
    "\n",
    "def two_pt_lin(pt1, pt2, x):\n",
    "    #pt1, pt2 (tuple): (x, f(x))\n",
    "    # x (num): point to calculate approximate f(x)\n",
    "    \n",
    "    a1 = (pt2[1] - pt1[1]) / (pt2[0] - pt1[0])\n",
    "    a0 = pt1[1] - a1*pt1[0]\n",
    "    return a0 + a1*x\n",
    "\n",
    "def two_pt_quad(pt1, pt2, x):\n",
    "    # pt1 (tuple): (x, f(x), f'(x))\n",
    "    # pt2 (tuple): (x, f(x))\n",
    "    # x (num): point to calculate approximate f(x)\n",
    "    \n",
    "    a2_num = ((pt2[1] - pt1[1]) / (pt2[0] - pt1[0])) - pt1[2]\n",
    "    a2 = a2_num / (pt2[0] - pt1[0])\n",
    "    a1 = pt1[2] - 2*a2*pt1[0]\n",
    "    a0 = pt1[1] - a1*pt1[0] - a2*(pt1[0]**2)\n",
    "    return a0 + a1*x + a2*(x**2)\n",
    "\n",
    "def three_pt_quad(pt1, pt2, pt3, x=0, minim=True):\n",
    "    # pt1, pt2, pt3 (tuple): (x, f(x))\n",
    "    # x (num): point to calculate approximate f(x)\n",
    "    \n",
    "    a2_num = ((pt3[1] - pt1[1]) / (pt3[0] - pt1[0])) - ((pt2[1] - pt1[1]) / (pt2[0] - pt1[0]))\n",
    "    a2 = a2_num / (pt3[0] - pt2[0])\n",
    "    a1 = ((pt2[1] - pt1[1]) / (pt2[0] - pt1[0])) - a2*(pt1[0] + pt2[0])\n",
    "    a0 = pt1[1] - a1*pt1[0] - a2*(pt1[0]**2)\n",
    "#     return a0, a1, a2\n",
    "    if minim:\n",
    "        x = -a1/(2*a2)\n",
    "    return (x, a0 + a1*x + a2*(x**2))\n",
    "\n",
    "# def three_pt_cubic(pt1, pt2, pt3, x):"
   ]
  },
  {
   "cell_type": "markdown",
   "metadata": {},
   "source": [
    "## 3-2"
   ]
  },
  {
   "cell_type": "code",
   "execution_count": null,
   "metadata": {},
   "outputs": [],
   "source": [
    "pt1 = (0, 41.51)\n",
    "pt2 = (2, 25.84)\n",
    "pt3 = (4, 75.44)\n",
    "print(three_pt_quad(pt1, pt2, pt3))"
   ]
  },
  {
   "cell_type": "code",
   "execution_count": null,
   "metadata": {},
   "outputs": [],
   "source": [
    "24.15/(2*8.15875)"
   ]
  },
  {
   "cell_type": "code",
   "execution_count": null,
   "metadata": {},
   "outputs": [],
   "source": [
    "print(three_pt_quad(pt1, pt2, pt3, 1.48))"
   ]
  },
  {
   "cell_type": "markdown",
   "metadata": {},
   "source": [
    "## 3-3"
   ]
  },
  {
   "cell_type": "code",
   "execution_count": 183,
   "metadata": {
    "collapsed": true
   },
   "outputs": [],
   "source": [
    "def converged(X, f, N1, N2, q_max=100, N_star=2, eps_a=0, eps_r=.0001):\n",
    "    \n",
    "    # Check for max iterations\n",
    "    if len(X) > q_max:\n",
    "        return True\n",
    "    \n",
    "    if eps_a == 0:\n",
    "        eps_a = .0001*abs(f(X[0]))\n",
    "    \n",
    "    # Check for absolute convergence\n",
    "    X_q = f(X[-1])\n",
    "    dF1 = abs(X_q - f(X[-2]))\n",
    "    if dF1 > eps_a:\n",
    "        N1 = 0 \n",
    "    else: \n",
    "        N1 += 1\n",
    "    if N1 == N_star:\n",
    "        return True\n",
    "    \n",
    "    # Check for relative convergence\n",
    "    dF2 = dF1/max(abs(X_q), 10**(-10))\n",
    "    if dF2 > eps_r:\n",
    "        N2 =0\n",
    "    else:\n",
    "        N2 += 1\n",
    "    if N2 == N_star:\n",
    "        return True\n",
    "    \n",
    "    return (N1, N2)   "
   ]
  },
  {
   "cell_type": "code",
   "execution_count": 179,
   "metadata": {
    "collapsed": true
   },
   "outputs": [],
   "source": [
    "def f(X):\n",
    "    x1, x2 = X[0], X[1]\n",
    "    return x1**2 - 3*x1*x2 + 4*(x2**2) + x1 - x2 \n",
    "    \n",
    "def grad_f(X):\n",
    "    x1, x2 = X[0], X[1]\n",
    "    f_x1 = 2*x1 - 3*x2 + 1\n",
    "    f_x2 = -3*x1 + 8*x2 - 1\n",
    "    grad = np.array([f_x1, f_x2])\n",
    "#     norm_grad = grad/max(abs(grad))\n",
    "    \n",
    "    return grad"
   ]
  },
  {
   "cell_type": "code",
   "execution_count": 226,
   "metadata": {},
   "outputs": [],
   "source": [
    "X = np.array([[2,2]])\n",
    "\n",
    "def steepest_descent(X, f, grad_f):\n",
    "    N1 = 0\n",
    "    N2 = 0\n",
    "    while True:\n",
    "        grad = grad_f(X[-1])\n",
    "        S = -grad/max(abs(grad))\n",
    "        pts = [(alpha, f(X[-1] + alpha*S)) for alpha in [0, 2, 4]]\n",
    "        alpha, val = three_pt_quad(*pts)\n",
    "        X = np.concatenate((X, [X[-1] + alpha*S]))\n",
    "\n",
    "        conv = converged(X, f, N1, N2)\n",
    "        if conv == True:\n",
    "            return X\n",
    "        else:\n",
    "            N1, N2 = conv\n",
    "\n",
    "desc_points = steepest_descent(X, f, grad_f)"
   ]
  },
  {
   "cell_type": "code",
   "execution_count": 246,
   "metadata": {},
   "outputs": [],
   "source": [
    "def conjugate_direction(X, f, grad_f):\n",
    "    N1 = 0\n",
    "    N2 = 0\n",
    "    while True:\n",
    "        grad = grad_f(X[-1])\n",
    "        a = np.linalg.norm(grad)**2\n",
    "        S = -grad/max(abs(grad))\n",
    "        N1 = 0\n",
    "        N2 = 0\n",
    "        while True:\n",
    "            pts = [(alpha, f(X[-1] + alpha*S)) for alpha in [0, 2, 4]]\n",
    "            alpha, val = three_pt_quad(*pts)\n",
    "            X = np.concatenate((X, [X[-1] + alpha*S]))\n",
    "\n",
    "            conv = converged(X, f, N1, N2)\n",
    "            if conv == True:\n",
    "                return X\n",
    "            else:\n",
    "                N1, N2 = conv\n",
    "                \n",
    "            grad = grad_f(X[-1])\n",
    "            b = np.linalg.norm(grad)**2\n",
    "            beta = b/a\n",
    "            S = -grad/max(abs(grad)) + beta*S\n",
    "            a = b\n",
    "            slope = np.dot(S, grad)\n",
    "            if slope >= 0:\n",
    "                break\n",
    "            \n",
    "conj_points = conjugate_direction(X, f, grad_f)       "
   ]
  },
  {
   "cell_type": "code",
   "execution_count": 285,
   "metadata": {},
   "outputs": [],
   "source": [
    "def BFGS(X, f, grad_f):\n",
    "\n",
    "    N1 = 0\n",
    "    N2 = 0\n",
    "    H = np.eye(2)\n",
    "    \n",
    "    while True:\n",
    "        grad = np.matrix(grad_f(X[-1])).T\n",
    "        norm_grad = -grad/max(abs(grad))\n",
    "        S = H.dot(norm_grad)\n",
    "        S = np.array(S.T)[0]\n",
    "        pts = [(alpha, f(X[-1] + alpha*S.T)) for alpha in [0, 2, 4]]\n",
    "        alpha, val = three_pt_quad(*pts)\n",
    "        X = np.concatenate((X, [X[-1] + alpha*S]))\n",
    "\n",
    "        conv = converged(X, f, N1, N2)\n",
    "        if conv == True:\n",
    "            return X\n",
    "        else:\n",
    "            N1, N2 = conv\n",
    "\n",
    "        p = np.matrix(X[-1] - X[-2]).T\n",
    "        y = np.matrix(grad_f(X[-1]) - grad_f(X[-2])).T\n",
    "\n",
    "        sigma = np.asscalar(p.T.dot(y))\n",
    "        tau = np.asscalar(y.T.dot(H).dot(y))\n",
    "\n",
    "        Hy = H.dot(y)\n",
    "        D_first = ((sigma + tau)/(sigma**2))*p.dot(p.T)\n",
    "        D = D_first - (Hy.dot(p.T) + p.dot(Hy.T))/sigma\n",
    "        H = H + D\n",
    "\n",
    "X = np.array([[2, 2]])\n",
    "bfgs_points = BFGS(X, f, grad_f)"
   ]
  },
  {
   "cell_type": "code",
   "execution_count": 283,
   "metadata": {},
   "outputs": [
    {
     "data": {
      "image/png": "[encoded data removed]",
      "text/plain": [
       "<matplotlib.figure.Figure at 0x7ff3ccdc3c88>"
      ]
     },
     "metadata": {},
     "output_type": "display_data"
    }
   ],
   "source": [
    "plt.plot([point[0] for point in desc_points], [point[1] for point in desc_points])\n",
    "plt.plot([point[0] for point in conj_points], [point[1] for point in conj_points])\n",
    "plt.plot([point[0] for point in bfgs_points], [point[1] for point in bfgs_points])\n",
    "plt.show()"
   ]
  },
  {
   "cell_type": "code",
   "execution_count": null,
   "metadata": {
    "collapsed": true
   },
   "outputs": [],
   "source": []
  }
 ],
 "metadata": {
  "kernelspec": {
   "display_name": "Python 3",
   "language": "python",
   "name": "python3"
  },
  "language_info": {
   "codemirror_mode": {
    "name": "ipython",
    "version": 3
   },
   "file_extension": ".py",
   "mimetype": "text/x-python",
   "name": "python",
   "nbconvert_exporter": "python",
   "pygments_lexer": "ipython3",
   "version": "3.6.1"
  }
 },
 "nbformat": 4,
 "nbformat_minor": 2
}
