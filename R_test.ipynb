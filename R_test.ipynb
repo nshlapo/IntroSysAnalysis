{
 "cells": [
  {
   "cell_type": "code",
   "execution_count": 14,
   "metadata": {
    "collapsed": true
   },
   "outputs": [],
   "source": [
    "spiderLong <- read.delim(\"./data/spiderLong.dat\", sep=\"\", header=TRUE)"
   ]
  },
  {
   "cell_type": "code",
   "execution_count": 17,
   "metadata": {},
   "outputs": [
    {
     "data": {
      "text/html": [
       "<table>\n",
       "<thead><tr><th scope=col>Group</th><th scope=col>Anxiety</th></tr></thead>\n",
       "<tbody>\n",
       "\t<tr><td>Picture</td><td>30     </td></tr>\n",
       "\t<tr><td>Picture</td><td>35     </td></tr>\n",
       "\t<tr><td>Picture</td><td>45     </td></tr>\n",
       "\t<tr><td>Picture</td><td>40     </td></tr>\n",
       "\t<tr><td>Picture</td><td>50     </td></tr>\n",
       "\t<tr><td>Picture</td><td>35     </td></tr>\n",
       "\t<tr><td>Picture</td><td>55     </td></tr>\n",
       "\t<tr><td>Picture</td><td>25     </td></tr>\n",
       "\t<tr><td>Picture</td><td>30     </td></tr>\n",
       "\t<tr><td>Picture</td><td>45     </td></tr>\n",
       "\t<tr><td>Picture</td><td>40     </td></tr>\n",
       "\t<tr><td>Picture</td><td>50     </td></tr>\n",
       "\t<tr><td>Real   </td><td>40     </td></tr>\n",
       "\t<tr><td>Real   </td><td>35     </td></tr>\n",
       "\t<tr><td>Real   </td><td>50     </td></tr>\n",
       "\t<tr><td>Real   </td><td>55     </td></tr>\n",
       "\t<tr><td>Real   </td><td>65     </td></tr>\n",
       "\t<tr><td>Real   </td><td>55     </td></tr>\n",
       "\t<tr><td>Real   </td><td>50     </td></tr>\n",
       "\t<tr><td>Real   </td><td>35     </td></tr>\n",
       "\t<tr><td>Real   </td><td>30     </td></tr>\n",
       "\t<tr><td>Real   </td><td>50     </td></tr>\n",
       "\t<tr><td>Real   </td><td>60     </td></tr>\n",
       "\t<tr><td>Real   </td><td>39     </td></tr>\n",
       "</tbody>\n",
       "</table>\n"
      ],
      "text/latex": [
       "\\begin{tabular}{r|ll}\n",
       " Group & Anxiety\\\\\n",
       "\\hline\n",
       "\t Picture & 30     \\\\\n",
       "\t Picture & 35     \\\\\n",
       "\t Picture & 45     \\\\\n",
       "\t Picture & 40     \\\\\n",
       "\t Picture & 50     \\\\\n",
       "\t Picture & 35     \\\\\n",
       "\t Picture & 55     \\\\\n",
       "\t Picture & 25     \\\\\n",
       "\t Picture & 30     \\\\\n",
       "\t Picture & 45     \\\\\n",
       "\t Picture & 40     \\\\\n",
       "\t Picture & 50     \\\\\n",
       "\t Real    & 40     \\\\\n",
       "\t Real    & 35     \\\\\n",
       "\t Real    & 50     \\\\\n",
       "\t Real    & 55     \\\\\n",
       "\t Real    & 65     \\\\\n",
       "\t Real    & 55     \\\\\n",
       "\t Real    & 50     \\\\\n",
       "\t Real    & 35     \\\\\n",
       "\t Real    & 30     \\\\\n",
       "\t Real    & 50     \\\\\n",
       "\t Real    & 60     \\\\\n",
       "\t Real    & 39     \\\\\n",
       "\\end{tabular}\n"
      ],
      "text/markdown": [
       "\n",
       "Group | Anxiety | \n",
       "|---|---|---|---|---|---|---|---|---|---|---|---|---|---|---|---|---|---|---|---|---|---|---|---|\n",
       "| Picture | 30      | \n",
       "| Picture | 35      | \n",
       "| Picture | 45      | \n",
       "| Picture | 40      | \n",
       "| Picture | 50      | \n",
       "| Picture | 35      | \n",
       "| Picture | 55      | \n",
       "| Picture | 25      | \n",
       "| Picture | 30      | \n",
       "| Picture | 45      | \n",
       "| Picture | 40      | \n",
       "| Picture | 50      | \n",
       "| Real    | 40      | \n",
       "| Real    | 35      | \n",
       "| Real    | 50      | \n",
       "| Real    | 55      | \n",
       "| Real    | 65      | \n",
       "| Real    | 55      | \n",
       "| Real    | 50      | \n",
       "| Real    | 35      | \n",
       "| Real    | 30      | \n",
       "| Real    | 50      | \n",
       "| Real    | 60      | \n",
       "| Real    | 39      | \n",
       "\n",
       "\n"
      ],
      "text/plain": [
       "   Group   Anxiety\n",
       "1  Picture 30     \n",
       "2  Picture 35     \n",
       "3  Picture 45     \n",
       "4  Picture 40     \n",
       "5  Picture 50     \n",
       "6  Picture 35     \n",
       "7  Picture 55     \n",
       "8  Picture 25     \n",
       "9  Picture 30     \n",
       "10 Picture 45     \n",
       "11 Picture 40     \n",
       "12 Picture 50     \n",
       "13 Real    40     \n",
       "14 Real    35     \n",
       "15 Real    50     \n",
       "16 Real    55     \n",
       "17 Real    65     \n",
       "18 Real    55     \n",
       "19 Real    50     \n",
       "20 Real    35     \n",
       "21 Real    30     \n",
       "22 Real    50     \n",
       "23 Real    60     \n",
       "24 Real    39     "
      ]
     },
     "metadata": {},
     "output_type": "display_data"
    }
   ],
   "source": [
    "spiderLong"
   ]
  },
  {
   "cell_type": "code",
   "execution_count": null,
   "metadata": {
    "collapsed": true
   },
   "outputs": [],
   "source": []
  }
 ],
 "metadata": {
  "kernelspec": {
   "display_name": "R",
   "language": "R",
   "name": "ir"
  },
  "language_info": {
   "codemirror_mode": "r",
   "file_extension": ".r",
   "mimetype": "text/x-r-source",
   "name": "R",
   "pygments_lexer": "r",
   "version": "3.4.1"
  }
 },
 "nbformat": 4,
 "nbformat_minor": 2
}
